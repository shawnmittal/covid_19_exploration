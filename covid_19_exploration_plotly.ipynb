{
 "cells": [
  {
   "cell_type": "code",
   "execution_count": 114,
   "metadata": {},
   "outputs": [],
   "source": [
    "import plotly.graph_objects as go\n",
    "import pandas as pd\n",
    "import math"
   ]
  },
  {
   "cell_type": "code",
   "execution_count": 24,
   "metadata": {},
   "outputs": [],
   "source": [
    "def import_covid19_data():\n",
    "    '''Import covid19 data from 2019 Novel Coronavirus COVID-19 (2019-nCoV) \n",
    "    Data Repository by Johns Hopkins CSSE and output confirmed cases, deaths,\n",
    "    and recovered cases into three pandas dataframes.\n",
    "    '''\n",
    "    \n",
    "    url = 'https://raw.githubusercontent.com/CSSEGISandData/COVID-19/master'\\\n",
    "    +'/csse_covid_19_data/csse_covid_19_time_series/'\n",
    "    conf = 'time_series_19-covid-Confirmed.csv'\n",
    "    death = 'time_series_19-covid-Deaths.csv'\n",
    "    recov = 'time_series_19-covid-Recovered.csv'\n",
    "    \n",
    "    confirmed = pd.read_csv(url + conf)\n",
    "    deaths = pd.read_csv(url + death)\n",
    "    recov = pd.read_csv(url + recov)\n",
    "    \n",
    "    return confirmed, deaths, recov"
   ]
  },
  {
   "cell_type": "code",
   "execution_count": 25,
   "metadata": {},
   "outputs": [],
   "source": [
    "confirmed, deaths, recovered = import_covid19_data()"
   ]
  },
  {
   "cell_type": "code",
   "execution_count": 46,
   "metadata": {},
   "outputs": [
    {
     "data": {
      "text/html": [
       "<div>\n",
       "<style scoped>\n",
       "    .dataframe tbody tr th:only-of-type {\n",
       "        vertical-align: middle;\n",
       "    }\n",
       "\n",
       "    .dataframe tbody tr th {\n",
       "        vertical-align: top;\n",
       "    }\n",
       "\n",
       "    .dataframe thead th {\n",
       "        text-align: right;\n",
       "    }\n",
       "</style>\n",
       "<table border=\"1\" class=\"dataframe\">\n",
       "  <thead>\n",
       "    <tr style=\"text-align: right;\">\n",
       "      <th></th>\n",
       "      <th>Province/State</th>\n",
       "      <th>Country/Region</th>\n",
       "      <th>Lat</th>\n",
       "      <th>Long</th>\n",
       "      <th>1/22/20</th>\n",
       "      <th>1/23/20</th>\n",
       "      <th>1/24/20</th>\n",
       "      <th>1/25/20</th>\n",
       "      <th>1/26/20</th>\n",
       "      <th>1/27/20</th>\n",
       "      <th>...</th>\n",
       "      <th>3/5/20</th>\n",
       "      <th>3/6/20</th>\n",
       "      <th>3/7/20</th>\n",
       "      <th>3/8/20</th>\n",
       "      <th>3/9/20</th>\n",
       "      <th>3/10/20</th>\n",
       "      <th>3/11/20</th>\n",
       "      <th>3/12/20</th>\n",
       "      <th>3/13/20</th>\n",
       "      <th>3/14/20</th>\n",
       "    </tr>\n",
       "  </thead>\n",
       "  <tbody>\n",
       "    <tr>\n",
       "      <th>0</th>\n",
       "      <td>Thailand</td>\n",
       "      <td>Thailand</td>\n",
       "      <td>15.0000</td>\n",
       "      <td>101.0000</td>\n",
       "      <td>2</td>\n",
       "      <td>3</td>\n",
       "      <td>5</td>\n",
       "      <td>7</td>\n",
       "      <td>8</td>\n",
       "      <td>8</td>\n",
       "      <td>...</td>\n",
       "      <td>47</td>\n",
       "      <td>48</td>\n",
       "      <td>50</td>\n",
       "      <td>50</td>\n",
       "      <td>50</td>\n",
       "      <td>53</td>\n",
       "      <td>59</td>\n",
       "      <td>70</td>\n",
       "      <td>75</td>\n",
       "      <td>82</td>\n",
       "    </tr>\n",
       "    <tr>\n",
       "      <th>1</th>\n",
       "      <td>Japan</td>\n",
       "      <td>Japan</td>\n",
       "      <td>36.0000</td>\n",
       "      <td>138.0000</td>\n",
       "      <td>2</td>\n",
       "      <td>1</td>\n",
       "      <td>2</td>\n",
       "      <td>2</td>\n",
       "      <td>4</td>\n",
       "      <td>4</td>\n",
       "      <td>...</td>\n",
       "      <td>360</td>\n",
       "      <td>420</td>\n",
       "      <td>461</td>\n",
       "      <td>502</td>\n",
       "      <td>511</td>\n",
       "      <td>581</td>\n",
       "      <td>639</td>\n",
       "      <td>639</td>\n",
       "      <td>701</td>\n",
       "      <td>773</td>\n",
       "    </tr>\n",
       "    <tr>\n",
       "      <th>2</th>\n",
       "      <td>Singapore</td>\n",
       "      <td>Singapore</td>\n",
       "      <td>1.2833</td>\n",
       "      <td>103.8333</td>\n",
       "      <td>0</td>\n",
       "      <td>1</td>\n",
       "      <td>3</td>\n",
       "      <td>3</td>\n",
       "      <td>4</td>\n",
       "      <td>5</td>\n",
       "      <td>...</td>\n",
       "      <td>117</td>\n",
       "      <td>130</td>\n",
       "      <td>138</td>\n",
       "      <td>150</td>\n",
       "      <td>150</td>\n",
       "      <td>160</td>\n",
       "      <td>178</td>\n",
       "      <td>178</td>\n",
       "      <td>200</td>\n",
       "      <td>212</td>\n",
       "    </tr>\n",
       "    <tr>\n",
       "      <th>3</th>\n",
       "      <td>Nepal</td>\n",
       "      <td>Nepal</td>\n",
       "      <td>28.1667</td>\n",
       "      <td>84.2500</td>\n",
       "      <td>0</td>\n",
       "      <td>0</td>\n",
       "      <td>0</td>\n",
       "      <td>1</td>\n",
       "      <td>1</td>\n",
       "      <td>1</td>\n",
       "      <td>...</td>\n",
       "      <td>1</td>\n",
       "      <td>1</td>\n",
       "      <td>1</td>\n",
       "      <td>1</td>\n",
       "      <td>1</td>\n",
       "      <td>1</td>\n",
       "      <td>1</td>\n",
       "      <td>1</td>\n",
       "      <td>1</td>\n",
       "      <td>1</td>\n",
       "    </tr>\n",
       "    <tr>\n",
       "      <th>4</th>\n",
       "      <td>Malaysia</td>\n",
       "      <td>Malaysia</td>\n",
       "      <td>2.5000</td>\n",
       "      <td>112.5000</td>\n",
       "      <td>0</td>\n",
       "      <td>0</td>\n",
       "      <td>0</td>\n",
       "      <td>3</td>\n",
       "      <td>4</td>\n",
       "      <td>4</td>\n",
       "      <td>...</td>\n",
       "      <td>50</td>\n",
       "      <td>83</td>\n",
       "      <td>93</td>\n",
       "      <td>99</td>\n",
       "      <td>117</td>\n",
       "      <td>129</td>\n",
       "      <td>149</td>\n",
       "      <td>149</td>\n",
       "      <td>197</td>\n",
       "      <td>238</td>\n",
       "    </tr>\n",
       "  </tbody>\n",
       "</table>\n",
       "<p>5 rows × 57 columns</p>\n",
       "</div>"
      ],
      "text/plain": [
       "  Province/State Country/Region      Lat      Long  1/22/20  1/23/20  1/24/20  \\\n",
       "0       Thailand       Thailand  15.0000  101.0000        2        3        5   \n",
       "1          Japan          Japan  36.0000  138.0000        2        1        2   \n",
       "2      Singapore      Singapore   1.2833  103.8333        0        1        3   \n",
       "3          Nepal          Nepal  28.1667   84.2500        0        0        0   \n",
       "4       Malaysia       Malaysia   2.5000  112.5000        0        0        0   \n",
       "\n",
       "   1/25/20  1/26/20  1/27/20  ...  3/5/20  3/6/20  3/7/20  3/8/20  3/9/20  \\\n",
       "0        7        8        8  ...      47      48      50      50      50   \n",
       "1        2        4        4  ...     360     420     461     502     511   \n",
       "2        3        4        5  ...     117     130     138     150     150   \n",
       "3        1        1        1  ...       1       1       1       1       1   \n",
       "4        3        4        4  ...      50      83      93      99     117   \n",
       "\n",
       "   3/10/20  3/11/20  3/12/20  3/13/20  3/14/20  \n",
       "0       53       59       70       75       82  \n",
       "1      581      639      639      701      773  \n",
       "2      160      178      178      200      212  \n",
       "3        1        1        1        1        1  \n",
       "4      129      149      149      197      238  \n",
       "\n",
       "[5 rows x 57 columns]"
      ]
     },
     "execution_count": 46,
     "metadata": {},
     "output_type": "execute_result"
    }
   ],
   "source": [
    "confirmed['Province/State'].fillna(confirmed['Country/Region'], inplace=True)\n",
    "confirmed.head()"
   ]
  },
  {
   "cell_type": "code",
   "execution_count": 103,
   "metadata": {},
   "outputs": [
    {
     "data": {
      "text/plain": [
       "name     string\n",
       "pop       int32\n",
       "lat     float32\n",
       "lon     float32\n",
       "dtype: object"
      ]
     },
     "execution_count": 103,
     "metadata": {},
     "output_type": "execute_result"
    }
   ],
   "source": [
    "df = pd.DataFrame([confirmed['Province/State'], \n",
    "                   confirmed.iloc[:,-1], \n",
    "                   confirmed['Lat'], \n",
    "                   confirmed['Long']]).T\n",
    "df.rename(columns={df.columns[0]: \"name\",\n",
    "                   df.columns[1]: \"pop\",\n",
    "                   df.columns[2]: \"lat\",\n",
    "                   df.columns[3]: \"lon\"}, inplace = True)\n",
    "\n",
    "df.sort_values(by=['pop'], ascending=False, inplace=True)\n",
    "df = df[df['pop']!=0]\n",
    "df = df.astype({'name': 'string',\n",
    "           'pop': 'int32',\n",
    "           'lat': 'float32',\n",
    "           'lon': 'float32'})\n",
    "df.dtypes"
   ]
  },
  {
   "cell_type": "code",
   "execution_count": 126,
   "metadata": {},
   "outputs": [],
   "source": [
    "df['text'] = df['name'] + '<br>Confirmed ' + (df['pop']).astype(str)\n",
    "limits = [(0,10),(11,50),(51,100),(101,150),(151,len(df)-1)]\n",
    "colors = [\"royalblue\",\"crimson\",\"lightseagreen\",\"orange\",\"lightgrey\"]\n",
    "cities = []\n",
    "scale = [100, 10, 5, 1, 1]"
   ]
  },
  {
   "cell_type": "code",
   "execution_count": 128,
   "metadata": {},
   "outputs": [
    {
     "data": {
      "application/vnd.plotly.v1+json": {
       "config": {
        "plotlyServerURL": "https://plot.ly"
       },
       "data": [
        {
         "lat": [
          30.97559928894043,
          43,
          32,
          36,
          40,
          51,
          46.22760009765625,
          46.818199157714844,
          23.341699600219727,
          33.88199996948242
         ],
         "lon": [
          112.27069854736328,
          12,
          53,
          128,
          -4,
          9,
          2.21370005607605,
          8.227499961853027,
          113.42440032958984,
          113.61399841308594
         ],
         "marker": {
          "color": "royalblue",
          "line": {
           "color": "rgb(40,40,40)",
           "width": 0.5
          },
          "size": [
           677.9,
           211.57,
           127.29,
           80.86,
           63.91,
           45.85,
           44.69,
           13.59,
           13.56,
           12.73
          ],
          "sizemode": "area"
         },
         "name": "0 - 10",
         "text": [
          "Hubei<br>Confirmed 67790",
          "Italy<br>Confirmed 21157",
          "Iran<br>Confirmed 12729",
          "Korea, South<br>Confirmed 8086",
          "Spain<br>Confirmed 6391",
          "Germany<br>Confirmed 4585",
          "France<br>Confirmed 4469",
          "Switzerland<br>Confirmed 1359",
          "Guangdong<br>Confirmed 1356",
          "Henan<br>Confirmed 1273"
         ],
         "type": "scattergeo"
        },
        {
         "lat": [
          55.37810134887695,
          60.47200012207031,
          27.61039924621582,
          31.825700759887695,
          63,
          52.132598876953125,
          27.61400032043457,
          56.26390075683594,
          36,
          36.34270095825195,
          35.44369888305664,
          50.83330154418945,
          47.51620101928711,
          32.971099853515625,
          30.057199478149414,
          47.400901794433594,
          30.61709976196289,
          42.16569900512695,
          47.86199951171875,
          40.18239974975586,
          31.20199966430664,
          36.1161994934082,
          25.354799270629883,
          39.54899978637695,
          26.078899383544922,
          23.82979965209961,
          35.19169998168945,
          2.5,
          39.07419967651367,
          64,
          1.2833000421524048,
          26.02750015258789,
          31,
          49.817501068115234,
          46.15119934082031,
          24.974000930786133,
          39.399898529052734,
          19.195899963378906,
          64.96309661865234
         ],
         "lon": [
          -3.436000108718872,
          8.468899726867676,
          111.70880126953125,
          117.22640228271484,
          16,
          5.291299819946289,
          115.72209930419922,
          9.501799583435059,
          138,
          118.1498031616211,
          139.63800048828125,
          4,
          14.550100326538086,
          119.45500183105469,
          107.8740005493164,
          -121.4905014038086,
          102.71029663085938,
          -74.9480972290039,
          127.7614974975586,
          116.41419982910156,
          121.4490966796875,
          -119.68160247802734,
          51.18389892578125,
          116.13059997558594,
          117.98739624023438,
          108.78810119628906,
          108.87010192871094,
          112.5,
          21.82430076599121,
          26,
          103.83329772949219,
          50.54999923706055,
          35,
          15.472999572753906,
          14.995499610900879,
          101.48699951171875,
          -8.224499702453613,
          109.74530029296875,
          -19.02079963684082
         ],
         "marker": {
          "color": "crimson",
          "line": {
           "color": "rgb(40,40,40)",
           "width": 0.5
          },
          "size": [
           114,
           109,
           101.8,
           99,
           96.1,
           95.9,
           93.5,
           82.7,
           77.3,
           76,
           69.6,
           68.9,
           65.5,
           63.1,
           57.6,
           57.2,
           53.9,
           52.5,
           48.2,
           43.7,
           35.3,
           34,
           33.7,
           31.8,
           29.6,
           25.2,
           24.5,
           23.8,
           22.8,
           22.5,
           21.2,
           21,
           19.3,
           18.9,
           18.1,
           17.4,
           16.9,
           16.8,
           15.6
          ],
          "sizemode": "area"
         },
         "name": "11 - 50",
         "text": [
          "United Kingdom<br>Confirmed 1140",
          "Norway<br>Confirmed 1090",
          "Hunan<br>Confirmed 1018",
          "Anhui<br>Confirmed 990",
          "Sweden<br>Confirmed 961",
          "Netherlands<br>Confirmed 959",
          "Jiangxi<br>Confirmed 935",
          "Denmark<br>Confirmed 827",
          "Japan<br>Confirmed 773",
          "Shandong<br>Confirmed 760",
          "Diamond Princess<br>Confirmed 696",
          "Belgium<br>Confirmed 689",
          "Austria<br>Confirmed 655",
          "Jiangsu<br>Confirmed 631",
          "Chongqing<br>Confirmed 576",
          "Washington<br>Confirmed 572",
          "Sichuan<br>Confirmed 539",
          "New York<br>Confirmed 525",
          "Heilongjiang<br>Confirmed 482",
          "Beijing<br>Confirmed 437",
          "Shanghai<br>Confirmed 353",
          "California<br>Confirmed 340",
          "Qatar<br>Confirmed 337",
          "Hebei<br>Confirmed 318",
          "Fujian<br>Confirmed 296",
          "Guangxi<br>Confirmed 252",
          "Shaanxi<br>Confirmed 245",
          "Malaysia<br>Confirmed 238",
          "Greece<br>Confirmed 228",
          "Finland<br>Confirmed 225",
          "Singapore<br>Confirmed 212",
          "Bahrain<br>Confirmed 210",
          "Israel<br>Confirmed 193",
          "Czechia<br>Confirmed 189",
          "Slovenia<br>Confirmed 181",
          "Yunnan<br>Confirmed 174",
          "Portugal<br>Confirmed 169",
          "Hainan<br>Confirmed 168",
          "Iceland<br>Confirmed 156"
         ],
         "type": "scattergeo"
        },
        {
         "lat": [
          26.815399169921875,
          22.299999237060547,
          42.230201721191406,
          39.30540084838867,
          37.577701568603516,
          37.809898376464844,
          53.142398834228516,
          41.29560089111328,
          45.943199157714844,
          58.595298767089844,
          -33.86880111694336,
          13,
          33,
          26,
          29.5,
          51.91939926147461,
          24,
          21,
          39.05979919433594,
          -0.7893000245094299,
          33.854698181152344,
          43.666099548339844,
          24,
          15,
          43.94240188598633,
          51.25379943847656,
          31.16950035095215,
          41.11289978027344,
          27.766300201416016,
          44.09349822998047,
          37.26919937133789,
          40.29890060424805,
          33.04059982299805,
          49.28269958496094,
          40.3494987487793,
          -35.67509841918945,
          60,
          31.054500579833984,
          23.700000762939453,
          16,
          49.81529998779297,
          -37.8135986328125,
          40.59080123901367,
          44.01649856567383,
          -28.016700744628906,
          35.44369888305664,
          48.66899871826172,
          42.7338981628418,
          37.7692985534668
         ],
         "lon": [
          106.87480163574219,
          114.19999694824219,
          -71.53009796142578,
          117.322998046875,
          112.29219818115234,
          101.05829620361328,
          -7.6921000480651855,
          122.6084976196289,
          24.966800689697266,
          25.013599395751953,
          151.2093048095703,
          122,
          44,
          30,
          47.75,
          19.145099639892578,
          45,
          78,
          -105.31109619140625,
          113.92130279541016,
          35.862300872802734,
          126.19229888916016,
          54,
          101,
          12.457799911499023,
          -85.32319641113281,
          -91.8677978515625,
          85.24009704589844,
          -81.68679809570312,
          113.9448013305664,
          106.16549682617188,
          -74.52100372314453,
          -83.64309692382812,
          -123.12069702148438,
          -88.98609924316406,
          -71.54299926757812,
          90,
          -97.5634994506836,
          121,
          108,
          6.1296000480651855,
          144.96310424804688,
          -77.20980072021484,
          21.00589942932129,
          153.39999389648438,
          139.63800048828125,
          19.698999404907227,
          25.48579978942871,
          -78.16999816894531
         ],
         "marker": {
          "color": "lightseagreen",
          "line": {
           "color": "rgb(40,40,40)",
           "width": 0.5
          },
          "size": [
           29.2,
           28,
           27.6,
           27.2,
           26.6,
           25.8,
           25.8,
           25,
           24.6,
           23,
           22.4,
           22.2,
           22,
           21.8,
           20.8,
           20.6,
           20.6,
           20.4,
           20.2,
           19.2,
           18.6,
           18.6,
           17,
           16.4,
           16,
           15.8,
           15.4,
           15.2,
           15.2,
           15,
           15,
           13.8,
           13.2,
           12.8,
           12.8,
           12.2,
           11.8,
           11.4,
           10.6,
           10.6,
           10.2,
           9.8,
           9.4,
           9.2,
           9.2,
           9.2,
           8.8,
           8.2,
           8.2
          ],
          "sizemode": "area"
         },
         "name": "51 - 100",
         "text": [
          "Guizhou<br>Confirmed 146",
          "Hong Kong<br>Confirmed 140",
          "Massachusetts<br>Confirmed 138",
          "Tianjin<br>Confirmed 136",
          "Shanxi<br>Confirmed 133",
          "Gansu<br>Confirmed 129",
          "Ireland<br>Confirmed 129",
          "Liaoning<br>Confirmed 125",
          "Romania<br>Confirmed 123",
          "Estonia<br>Confirmed 115",
          "New South Wales<br>Confirmed 112",
          "Philippines<br>Confirmed 111",
          "Iraq<br>Confirmed 110",
          "Egypt<br>Confirmed 109",
          "Kuwait<br>Confirmed 104",
          "Poland<br>Confirmed 103",
          "Saudi Arabia<br>Confirmed 103",
          "India<br>Confirmed 102",
          "Colorado<br>Confirmed 101",
          "Indonesia<br>Confirmed 96",
          "Lebanon<br>Confirmed 93",
          "Jilin<br>Confirmed 93",
          "United Arab Emirates<br>Confirmed 85",
          "Thailand<br>Confirmed 82",
          "San Marino<br>Confirmed 80",
          "Ontario<br>Confirmed 79",
          "Louisiana<br>Confirmed 77",
          "Xinjiang<br>Confirmed 76",
          "Florida<br>Confirmed 76",
          "Inner Mongolia<br>Confirmed 75",
          "Ningxia<br>Confirmed 75",
          "New Jersey<br>Confirmed 69",
          "Georgia<br>Confirmed 66",
          "British Columbia<br>Confirmed 64",
          "Illinois<br>Confirmed 64",
          "Chile<br>Confirmed 61",
          "Russia<br>Confirmed 59",
          "Texas<br>Confirmed 57",
          "Taiwan*<br>Confirmed 53",
          "Vietnam<br>Confirmed 53",
          "Luxembourg<br>Confirmed 51",
          "Victoria<br>Confirmed 49",
          "Pennsylvania<br>Confirmed 47",
          "Serbia<br>Confirmed 46",
          "Queensland<br>Confirmed 46",
          "Diamond Princess<br>Confirmed 46",
          "Slovakia<br>Confirmed 44",
          "Bulgaria<br>Confirmed 41",
          "Virginia<br>Confirmed 41"
         ],
         "type": "scattergeo"
        },
        {
         "lat": [
          45.099998474121094,
          41.15330123901367,
          -9.1899995803833,
          -30.559499740600586,
          28.033899307250977,
          8.538000106811523,
          -38.416099548339844,
          35.747798919677734,
          44.571998596191406,
          30.37529945373535,
          47.162498474121094,
          42.315399169921875,
          53.93330001831055,
          -1.8312000036239624,
          44.26850128173828,
          53.709800720214844,
          39.063899993896484,
          35.126399993896484,
          23.63450050354004,
          9.748900413513184,
          56.879600524902344,
          40.38880157470703,
          43.32659912109375,
          35.63010025024414,
          41.597801208496094,
          4.570899963378906,
          38.313499450683594,
          45.69449996948242,
          37.64889907836914,
          41.68090057373047,
          -34.92850112915039,
          21,
          33.85689926147461,
          34,
          40.06909942626953,
          43.91590118408203,
          35.9375,
          35.745201110839844,
          42.01150131225586,
          31.79170036315918,
          -31.95050048828125,
          52.93989944458008,
          39.84939956665039,
          40.14310073852539,
          41.12540054321289,
          37.66809844970703,
          41.60860061645508,
          33.729801177978516,
          47.411598205566406
         ],
         "lon": [
          15.199999809265137,
          20.16830062866211,
          -75.01519775390625,
          22.9375,
          1.659600019454956,
          -80.78209686279297,
          -63.61669921875,
          -86.69229888916016,
          -122.0708999633789,
          69.34510040283203,
          19.503299713134766,
          43.35689926147461,
          -116.57649993896484,
          -78.18340301513672,
          -89.61650085449219,
          27.953399658203125,
          -76.8021011352539,
          33.429901123046875,
          -102.55280303955078,
          -83.75340270996094,
          24.603200912475586,
          -82.76490020751953,
          -84.53610229492188,
          -79.806396484375,
          -72.75540161132812,
          -74.29730224609375,
          -117.0553970336914,
          -93.90019989013672,
          -122.66549682617188,
          -71.51180267333984,
          138.60069274902344,
          57,
          -80.94499969482422,
          9,
          45.03820037841797,
          17.679100036621094,
          14.375399589538574,
          95.99559783935547,
          -93.21050262451172,
          -7.092599868774414,
          115.8604965209961,
          -73.54910278320312,
          -86.25830078125,
          47.576900482177734,
          -98.26809692382812,
          -84.67009735107422,
          21.74530029296875,
          -111.43119812011719,
          28.36989974975586
         ],
         "marker": {
          "color": "orange",
          "line": {
           "color": "rgb(40,40,40)",
           "width": 0.5
          },
          "size": [
           38,
           38,
           38,
           38,
           37,
           36,
           34,
           32,
           32,
           31,
           30,
           30,
           29,
           28,
           27,
           27,
           26,
           26,
           26,
           26,
           26,
           26,
           25,
           24,
           22,
           22,
           21,
           21,
           21,
           20,
           19,
           19,
           19,
           18,
           18,
           18,
           18,
           18,
           17,
           17,
           17,
           17,
           16,
           15,
           14,
           14,
           14,
           12,
           12
          ],
          "sizemode": "area"
         },
         "name": "101 - 150",
         "text": [
          "Croatia<br>Confirmed 38",
          "Albania<br>Confirmed 38",
          "Peru<br>Confirmed 38",
          "South Africa<br>Confirmed 38",
          "Algeria<br>Confirmed 37",
          "Panama<br>Confirmed 36",
          "Argentina<br>Confirmed 34",
          "Tennessee<br>Confirmed 32",
          "Oregon<br>Confirmed 32",
          "Pakistan<br>Confirmed 31",
          "Hungary<br>Confirmed 30",
          "Georgia<br>Confirmed 30",
          "Alberta<br>Confirmed 29",
          "Ecuador<br>Confirmed 28",
          "Wisconsin<br>Confirmed 27",
          "Belarus<br>Confirmed 27",
          "Maryland<br>Confirmed 26",
          "Cyprus<br>Confirmed 26",
          "Mexico<br>Confirmed 26",
          "Costa Rica<br>Confirmed 26",
          "Latvia<br>Confirmed 26",
          "Ohio<br>Confirmed 26",
          "Michigan<br>Confirmed 25",
          "North Carolina<br>Confirmed 24",
          "Connecticut<br>Confirmed 22",
          "Colombia<br>Confirmed 22",
          "Nevada<br>Confirmed 21",
          "Minnesota<br>Confirmed 21",
          "Grand Princess<br>Confirmed 21",
          "Rhode Island<br>Confirmed 20",
          "South Australia<br>Confirmed 19",
          "Oman<br>Confirmed 19",
          "South Carolina<br>Confirmed 19",
          "Tunisia<br>Confirmed 18",
          "Armenia<br>Confirmed 18",
          "Bosnia and Herzegovina<br>Confirmed 18",
          "Malta<br>Confirmed 18",
          "Qinghai<br>Confirmed 18",
          "Iowa<br>Confirmed 17",
          "Morocco<br>Confirmed 17",
          "Western Australia<br>Confirmed 17",
          "Quebec<br>Confirmed 17",
          "Indiana<br>Confirmed 16",
          "Azerbaijan<br>Confirmed 15",
          "Nebraska<br>Confirmed 14",
          "Kentucky<br>Confirmed 14",
          "North Macedonia<br>Confirmed 14",
          "Arizona<br>Confirmed 12",
          "Moldova<br>Confirmed 12"
         ],
         "type": "scattergeo"
        },
        {
         "lat": [
          33,
          18.735700607299805,
          -16.290199279785156,
          14.497400283813477,
          7,
          22.16670036315918,
          34.84049987792969,
          40.150001525878906,
          3.2028000354766846,
          38.89739990234375,
          44.299800872802734,
          61.892601013183594,
          14.641500473022461,
          55.16939926147461,
          38.5265998840332,
          18.109600067138672,
          43.45249938964844,
          11.550000190734863,
          32.741600036621094,
          48.01959991455078,
          32.318199157714844,
          39.31850051879883,
          -23.4424991607666,
          -40.90060043334961,
          -21.115100860595703,
          44.0458984375,
          3.9339001178741455,
          -41.454498291015625,
          38.96369934082031,
          46.92190170288086,
          4,
          38.45610046386719,
          22,
          47.13999938964844,
          -32.52280044555664,
          35.56529998779297,
          21.09429931640625,
          53.76089859008789,
          23.684999465942383,
          -17.67970085144043,
          44.69390106201172,
          18.220800399780273,
          48.379398345947266,
          7.946499824523926,
          -4.679599761962891,
          52.93989944458008,
          12.521100044250488,
          10.691800117492676,
          -4.038300037384033,
          49.189998626708984,
          6.423799991607666,
          -22.957599639892578,
          37.64889907836914,
          18.07080078125,
          44.240501403808594,
          49.37229919433594,
          15.199999809265137,
          42.75600051879883,
          3.8480000495910645,
          12.238300323486328,
          43.733299255371094,
          9.081999778747559,
          9.145000457763672,
          17.060800552368164,
          -0.023600000888109207,
          41.90290069580078,
          9.945599555969238,
          12.862799644470215,
          31.692699432373047,
          31.239999771118164,
          46.86249923706055,
          16.264999389648438,
          19.31329917907715,
          8.619500160217285,
          -35.4734992980957,
          5,
          27.51420021057129,
          7.539999961853027,
          -12.463399887084961,
          28.16670036315918,
          61.37070083618164,
          15.783499717712402,
          47.528900146484375,
          36.14080047607422,
          12.984299659729004,
          13.90939998626709,
          -1.9402999877929688,
          21.00790023803711,
          49.45000076293945,
          46.56529998779297,
          -0.8036999702453613,
          42.50630187988281,
          3.919300079345703,
          -26.522499084472656,
          17.899999618530273,
          18.335800170898438
         ],
         "lon": [
          65,
          -70.1626968383789,
          -63.58869934082031,
          -14.452400207519531,
          81,
          113.55000305175781,
          -106.24849700927734,
          -111.86239624023438,
          73.220703125,
          -77.02680206298828,
          -99.43879699707031,
          -6.911799907684326,
          -61.024200439453125,
          23.88129997253418,
          -96.72650146484375,
          -77.29750061035156,
          -71.56390380859375,
          104.91670227050781,
          -89.67870330810547,
          66.92369842529297,
          -86.90229797363281,
          -75.5071029663086,
          -58.44380187988281,
          174.88600158691406,
          55.536399841308594,
          -72.71070098876953,
          -53.12580108642578,
          145.970703125,
          35.24330139160156,
          -110.45439910888672,
          -53,
          -92.28839874267578,
          -80,
          9.550000190734863,
          -55.76580047607422,
          -96.92890167236328,
          -157.49830627441406,
          -98.81390380859375,
          90.3563003540039,
          149.40679931640625,
          -69.38189697265625,
          -66.59010314941406,
          31.165599822998047,
          -1.0232000350952148,
          55.492000579833984,
          -106.45089721679688,
          -69.96829986572266,
          -61.22249984741211,
          21.758699417114258,
          -2.109999895095825,
          -66.5896987915039,
          18.490400314331055,
          -122.66549682617188,
          -63.05009841918945,
          -114.47879791259766,
          -2.3643999099731445,
          -86.24189758300781,
          -107.30249786376953,
          11.502099990844727,
          -1.5615999698638916,
          7.4166998863220215,
          8.675299644470215,
          40.48970031738281,
          -61.7963981628418,
          37.90620040893555,
          12.453399658203125,
          -9.696599960327148,
          30.217599868774414,
          88.09239959716797,
          36.5099983215332,
          103.8467025756836,
          -61.55099868774414,
          -81.25460052490234,
          0.8248000144958496,
          149.0124053955078,
          -58.75,
          90.43360137939453,
          -5.547100067138672,
          130.84559631347656,
          84.25,
          -152.40440368652344,
          -90.23079681396484,
          -99.78399658203125,
          -5.353600025177002,
          -61.287200927734375,
          -60.97890090942383,
          29.873899459838867,
          10.940799713134766,
          -2.5799999237060547,
          -66.46189880371094,
          11.609399795532227,
          1.5218000411987305,
          -56.027801513671875,
          31.465900421142578,
          -62.83330154418945,
          -64.89630126953125
         ],
         "marker": {
          "color": "lightgrey",
          "line": {
           "color": "rgb(40,40,40)",
           "width": 0.5
          },
          "size": [
           11,
           11,
           10,
           10,
           10,
           10,
           10,
           10,
           10,
           10,
           9,
           9,
           9,
           8,
           8,
           8,
           7,
           7,
           6,
           6,
           6,
           6,
           6,
           6,
           6,
           5,
           5,
           5,
           5,
           5,
           5,
           4,
           4,
           4,
           4,
           4,
           4,
           4,
           3,
           3,
           3,
           3,
           3,
           3,
           2,
           2,
           2,
           2,
           2,
           2,
           2,
           2,
           2,
           2,
           2,
           2,
           2,
           2,
           2,
           2,
           2,
           2,
           1,
           1,
           1,
           1,
           1,
           1,
           1,
           1,
           1,
           1,
           1,
           1,
           1,
           1,
           1,
           1,
           1,
           1,
           1,
           1,
           1,
           1,
           1,
           1,
           1,
           1,
           1,
           1,
           1,
           1,
           1,
           1,
           1,
           1
          ],
          "sizemode": "area"
         },
         "name": "151 - 247",
         "text": [
          "Afghanistan<br>Confirmed 11",
          "Dominican Republic<br>Confirmed 11",
          "Bolivia<br>Confirmed 10",
          "Senegal<br>Confirmed 10",
          "Sri Lanka<br>Confirmed 10",
          "Macau<br>Confirmed 10",
          "New Mexico<br>Confirmed 10",
          "Utah<br>Confirmed 10",
          "Maldives<br>Confirmed 10",
          "District of Columbia<br>Confirmed 10",
          "South Dakota<br>Confirmed 9",
          "Faroe Islands<br>Confirmed 9",
          "Martinique<br>Confirmed 9",
          "Lithuania<br>Confirmed 8",
          "Kansas<br>Confirmed 8",
          "Jamaica<br>Confirmed 8",
          "New Hampshire<br>Confirmed 7",
          "Cambodia<br>Confirmed 7",
          "Mississippi<br>Confirmed 6",
          "Kazakhstan<br>Confirmed 6",
          "Alabama<br>Confirmed 6",
          "Delaware<br>Confirmed 6",
          "Paraguay<br>Confirmed 6",
          "New Zealand<br>Confirmed 6",
          "Reunion<br>Confirmed 6",
          "Vermont<br>Confirmed 5",
          "French Guiana<br>Confirmed 5",
          "Tasmania<br>Confirmed 5",
          "Turkey<br>Confirmed 5",
          "Montana<br>Confirmed 5",
          "Fench Guiana<br>Confirmed 5",
          "Missouri<br>Confirmed 4",
          "Cuba<br>Confirmed 4",
          "Liechtenstein<br>Confirmed 4",
          "Uruguay<br>Confirmed 4",
          "Oklahoma<br>Confirmed 4",
          "Hawaii<br>Confirmed 4",
          "Manitoba<br>Confirmed 4",
          "Bangladesh<br>Confirmed 3",
          "French Polynesia<br>Confirmed 3",
          "Maine<br>Confirmed 3",
          "Puerto Rico<br>Confirmed 3",
          "Ukraine<br>Confirmed 3",
          "Ghana<br>Confirmed 3",
          "Seychelles<br>Confirmed 2",
          "Saskatchewan<br>Confirmed 2",
          "Aruba<br>Confirmed 2",
          "Trinidad and Tobago<br>Confirmed 2",
          "Congo (Kinshasa)<br>Confirmed 2",
          "Jersey<br>Confirmed 2",
          "Venezuela<br>Confirmed 2",
          "Namibia<br>Confirmed 2",
          "Grand Princess<br>Confirmed 2",
          "St Martin<br>Confirmed 2",
          "Idaho<br>Confirmed 2",
          "Channel Islands<br>Confirmed 2",
          "Honduras<br>Confirmed 2",
          "Wyoming<br>Confirmed 2",
          "Cameroon<br>Confirmed 2",
          "Burkina Faso<br>Confirmed 2",
          "Monaco<br>Confirmed 2",
          "Nigeria<br>Confirmed 2",
          "Ethiopia<br>Confirmed 1",
          "Antigua and Barbuda<br>Confirmed 1",
          "Kenya<br>Confirmed 1",
          "Holy See<br>Confirmed 1",
          "Guinea<br>Confirmed 1",
          "Sudan<br>Confirmed 1",
          "Tibet<br>Confirmed 1",
          "Jordan<br>Confirmed 1",
          "Mongolia<br>Confirmed 1",
          "Guadeloupe<br>Confirmed 1",
          "Cayman Islands<br>Confirmed 1",
          "Togo<br>Confirmed 1",
          "Australian Capital Territory<br>Confirmed 1",
          "Guyana<br>Confirmed 1",
          "Bhutan<br>Confirmed 1",
          "Cote d'Ivoire<br>Confirmed 1",
          "Northern Territory<br>Confirmed 1",
          "Nepal<br>Confirmed 1",
          "Alaska<br>Confirmed 1",
          "Guatemala<br>Confirmed 1",
          "North Dakota<br>Confirmed 1",
          "Gibraltar<br>Confirmed 1",
          "Saint Vincent and the Grenadines<br>Confirmed 1",
          "Saint Lucia<br>Confirmed 1",
          "Rwanda<br>Confirmed 1",
          "Mauritania<br>Confirmed 1",
          "Guernsey<br>Confirmed 1",
          "New Brunswick<br>Confirmed 1",
          "Gabon<br>Confirmed 1",
          "Andorra<br>Confirmed 1",
          "Suriname<br>Confirmed 1",
          "Eswatini<br>Confirmed 1",
          "Saint Barthelemy<br>Confirmed 1",
          "Virgin Islands, U.S.<br>Confirmed 1"
         ],
         "type": "scattergeo"
        }
       ],
       "layout": {
        "geo": {
         "landcolor": "rgb(217, 217, 217)",
         "scope": "world",
         "showcountries": true
        },
        "showlegend": true,
        "template": {
         "data": {
          "bar": [
           {
            "error_x": {
             "color": "#2a3f5f"
            },
            "error_y": {
             "color": "#2a3f5f"
            },
            "marker": {
             "line": {
              "color": "#E5ECF6",
              "width": 0.5
             }
            },
            "type": "bar"
           }
          ],
          "barpolar": [
           {
            "marker": {
             "line": {
              "color": "#E5ECF6",
              "width": 0.5
             }
            },
            "type": "barpolar"
           }
          ],
          "carpet": [
           {
            "aaxis": {
             "endlinecolor": "#2a3f5f",
             "gridcolor": "white",
             "linecolor": "white",
             "minorgridcolor": "white",
             "startlinecolor": "#2a3f5f"
            },
            "baxis": {
             "endlinecolor": "#2a3f5f",
             "gridcolor": "white",
             "linecolor": "white",
             "minorgridcolor": "white",
             "startlinecolor": "#2a3f5f"
            },
            "type": "carpet"
           }
          ],
          "choropleth": [
           {
            "colorbar": {
             "outlinewidth": 0,
             "ticks": ""
            },
            "type": "choropleth"
           }
          ],
          "contour": [
           {
            "colorbar": {
             "outlinewidth": 0,
             "ticks": ""
            },
            "colorscale": [
             [
              0,
              "#0d0887"
             ],
             [
              0.1111111111111111,
              "#46039f"
             ],
             [
              0.2222222222222222,
              "#7201a8"
             ],
             [
              0.3333333333333333,
              "#9c179e"
             ],
             [
              0.4444444444444444,
              "#bd3786"
             ],
             [
              0.5555555555555556,
              "#d8576b"
             ],
             [
              0.6666666666666666,
              "#ed7953"
             ],
             [
              0.7777777777777778,
              "#fb9f3a"
             ],
             [
              0.8888888888888888,
              "#fdca26"
             ],
             [
              1,
              "#f0f921"
             ]
            ],
            "type": "contour"
           }
          ],
          "contourcarpet": [
           {
            "colorbar": {
             "outlinewidth": 0,
             "ticks": ""
            },
            "type": "contourcarpet"
           }
          ],
          "heatmap": [
           {
            "colorbar": {
             "outlinewidth": 0,
             "ticks": ""
            },
            "colorscale": [
             [
              0,
              "#0d0887"
             ],
             [
              0.1111111111111111,
              "#46039f"
             ],
             [
              0.2222222222222222,
              "#7201a8"
             ],
             [
              0.3333333333333333,
              "#9c179e"
             ],
             [
              0.4444444444444444,
              "#bd3786"
             ],
             [
              0.5555555555555556,
              "#d8576b"
             ],
             [
              0.6666666666666666,
              "#ed7953"
             ],
             [
              0.7777777777777778,
              "#fb9f3a"
             ],
             [
              0.8888888888888888,
              "#fdca26"
             ],
             [
              1,
              "#f0f921"
             ]
            ],
            "type": "heatmap"
           }
          ],
          "heatmapgl": [
           {
            "colorbar": {
             "outlinewidth": 0,
             "ticks": ""
            },
            "colorscale": [
             [
              0,
              "#0d0887"
             ],
             [
              0.1111111111111111,
              "#46039f"
             ],
             [
              0.2222222222222222,
              "#7201a8"
             ],
             [
              0.3333333333333333,
              "#9c179e"
             ],
             [
              0.4444444444444444,
              "#bd3786"
             ],
             [
              0.5555555555555556,
              "#d8576b"
             ],
             [
              0.6666666666666666,
              "#ed7953"
             ],
             [
              0.7777777777777778,
              "#fb9f3a"
             ],
             [
              0.8888888888888888,
              "#fdca26"
             ],
             [
              1,
              "#f0f921"
             ]
            ],
            "type": "heatmapgl"
           }
          ],
          "histogram": [
           {
            "marker": {
             "colorbar": {
              "outlinewidth": 0,
              "ticks": ""
             }
            },
            "type": "histogram"
           }
          ],
          "histogram2d": [
           {
            "colorbar": {
             "outlinewidth": 0,
             "ticks": ""
            },
            "colorscale": [
             [
              0,
              "#0d0887"
             ],
             [
              0.1111111111111111,
              "#46039f"
             ],
             [
              0.2222222222222222,
              "#7201a8"
             ],
             [
              0.3333333333333333,
              "#9c179e"
             ],
             [
              0.4444444444444444,
              "#bd3786"
             ],
             [
              0.5555555555555556,
              "#d8576b"
             ],
             [
              0.6666666666666666,
              "#ed7953"
             ],
             [
              0.7777777777777778,
              "#fb9f3a"
             ],
             [
              0.8888888888888888,
              "#fdca26"
             ],
             [
              1,
              "#f0f921"
             ]
            ],
            "type": "histogram2d"
           }
          ],
          "histogram2dcontour": [
           {
            "colorbar": {
             "outlinewidth": 0,
             "ticks": ""
            },
            "colorscale": [
             [
              0,
              "#0d0887"
             ],
             [
              0.1111111111111111,
              "#46039f"
             ],
             [
              0.2222222222222222,
              "#7201a8"
             ],
             [
              0.3333333333333333,
              "#9c179e"
             ],
             [
              0.4444444444444444,
              "#bd3786"
             ],
             [
              0.5555555555555556,
              "#d8576b"
             ],
             [
              0.6666666666666666,
              "#ed7953"
             ],
             [
              0.7777777777777778,
              "#fb9f3a"
             ],
             [
              0.8888888888888888,
              "#fdca26"
             ],
             [
              1,
              "#f0f921"
             ]
            ],
            "type": "histogram2dcontour"
           }
          ],
          "mesh3d": [
           {
            "colorbar": {
             "outlinewidth": 0,
             "ticks": ""
            },
            "type": "mesh3d"
           }
          ],
          "parcoords": [
           {
            "line": {
             "colorbar": {
              "outlinewidth": 0,
              "ticks": ""
             }
            },
            "type": "parcoords"
           }
          ],
          "pie": [
           {
            "automargin": true,
            "type": "pie"
           }
          ],
          "scatter": [
           {
            "marker": {
             "colorbar": {
              "outlinewidth": 0,
              "ticks": ""
             }
            },
            "type": "scatter"
           }
          ],
          "scatter3d": [
           {
            "line": {
             "colorbar": {
              "outlinewidth": 0,
              "ticks": ""
             }
            },
            "marker": {
             "colorbar": {
              "outlinewidth": 0,
              "ticks": ""
             }
            },
            "type": "scatter3d"
           }
          ],
          "scattercarpet": [
           {
            "marker": {
             "colorbar": {
              "outlinewidth": 0,
              "ticks": ""
             }
            },
            "type": "scattercarpet"
           }
          ],
          "scattergeo": [
           {
            "marker": {
             "colorbar": {
              "outlinewidth": 0,
              "ticks": ""
             }
            },
            "type": "scattergeo"
           }
          ],
          "scattergl": [
           {
            "marker": {
             "colorbar": {
              "outlinewidth": 0,
              "ticks": ""
             }
            },
            "type": "scattergl"
           }
          ],
          "scattermapbox": [
           {
            "marker": {
             "colorbar": {
              "outlinewidth": 0,
              "ticks": ""
             }
            },
            "type": "scattermapbox"
           }
          ],
          "scatterpolar": [
           {
            "marker": {
             "colorbar": {
              "outlinewidth": 0,
              "ticks": ""
             }
            },
            "type": "scatterpolar"
           }
          ],
          "scatterpolargl": [
           {
            "marker": {
             "colorbar": {
              "outlinewidth": 0,
              "ticks": ""
             }
            },
            "type": "scatterpolargl"
           }
          ],
          "scatterternary": [
           {
            "marker": {
             "colorbar": {
              "outlinewidth": 0,
              "ticks": ""
             }
            },
            "type": "scatterternary"
           }
          ],
          "surface": [
           {
            "colorbar": {
             "outlinewidth": 0,
             "ticks": ""
            },
            "colorscale": [
             [
              0,
              "#0d0887"
             ],
             [
              0.1111111111111111,
              "#46039f"
             ],
             [
              0.2222222222222222,
              "#7201a8"
             ],
             [
              0.3333333333333333,
              "#9c179e"
             ],
             [
              0.4444444444444444,
              "#bd3786"
             ],
             [
              0.5555555555555556,
              "#d8576b"
             ],
             [
              0.6666666666666666,
              "#ed7953"
             ],
             [
              0.7777777777777778,
              "#fb9f3a"
             ],
             [
              0.8888888888888888,
              "#fdca26"
             ],
             [
              1,
              "#f0f921"
             ]
            ],
            "type": "surface"
           }
          ],
          "table": [
           {
            "cells": {
             "fill": {
              "color": "#EBF0F8"
             },
             "line": {
              "color": "white"
             }
            },
            "header": {
             "fill": {
              "color": "#C8D4E3"
             },
             "line": {
              "color": "white"
             }
            },
            "type": "table"
           }
          ]
         },
         "layout": {
          "annotationdefaults": {
           "arrowcolor": "#2a3f5f",
           "arrowhead": 0,
           "arrowwidth": 1
          },
          "coloraxis": {
           "colorbar": {
            "outlinewidth": 0,
            "ticks": ""
           }
          },
          "colorscale": {
           "diverging": [
            [
             0,
             "#8e0152"
            ],
            [
             0.1,
             "#c51b7d"
            ],
            [
             0.2,
             "#de77ae"
            ],
            [
             0.3,
             "#f1b6da"
            ],
            [
             0.4,
             "#fde0ef"
            ],
            [
             0.5,
             "#f7f7f7"
            ],
            [
             0.6,
             "#e6f5d0"
            ],
            [
             0.7,
             "#b8e186"
            ],
            [
             0.8,
             "#7fbc41"
            ],
            [
             0.9,
             "#4d9221"
            ],
            [
             1,
             "#276419"
            ]
           ],
           "sequential": [
            [
             0,
             "#0d0887"
            ],
            [
             0.1111111111111111,
             "#46039f"
            ],
            [
             0.2222222222222222,
             "#7201a8"
            ],
            [
             0.3333333333333333,
             "#9c179e"
            ],
            [
             0.4444444444444444,
             "#bd3786"
            ],
            [
             0.5555555555555556,
             "#d8576b"
            ],
            [
             0.6666666666666666,
             "#ed7953"
            ],
            [
             0.7777777777777778,
             "#fb9f3a"
            ],
            [
             0.8888888888888888,
             "#fdca26"
            ],
            [
             1,
             "#f0f921"
            ]
           ],
           "sequentialminus": [
            [
             0,
             "#0d0887"
            ],
            [
             0.1111111111111111,
             "#46039f"
            ],
            [
             0.2222222222222222,
             "#7201a8"
            ],
            [
             0.3333333333333333,
             "#9c179e"
            ],
            [
             0.4444444444444444,
             "#bd3786"
            ],
            [
             0.5555555555555556,
             "#d8576b"
            ],
            [
             0.6666666666666666,
             "#ed7953"
            ],
            [
             0.7777777777777778,
             "#fb9f3a"
            ],
            [
             0.8888888888888888,
             "#fdca26"
            ],
            [
             1,
             "#f0f921"
            ]
           ]
          },
          "colorway": [
           "#636efa",
           "#EF553B",
           "#00cc96",
           "#ab63fa",
           "#FFA15A",
           "#19d3f3",
           "#FF6692",
           "#B6E880",
           "#FF97FF",
           "#FECB52"
          ],
          "font": {
           "color": "#2a3f5f"
          },
          "geo": {
           "bgcolor": "white",
           "lakecolor": "white",
           "landcolor": "#E5ECF6",
           "showlakes": true,
           "showland": true,
           "subunitcolor": "white"
          },
          "hoverlabel": {
           "align": "left"
          },
          "hovermode": "closest",
          "mapbox": {
           "style": "light"
          },
          "paper_bgcolor": "white",
          "plot_bgcolor": "#E5ECF6",
          "polar": {
           "angularaxis": {
            "gridcolor": "white",
            "linecolor": "white",
            "ticks": ""
           },
           "bgcolor": "#E5ECF6",
           "radialaxis": {
            "gridcolor": "white",
            "linecolor": "white",
            "ticks": ""
           }
          },
          "scene": {
           "xaxis": {
            "backgroundcolor": "#E5ECF6",
            "gridcolor": "white",
            "gridwidth": 2,
            "linecolor": "white",
            "showbackground": true,
            "ticks": "",
            "zerolinecolor": "white"
           },
           "yaxis": {
            "backgroundcolor": "#E5ECF6",
            "gridcolor": "white",
            "gridwidth": 2,
            "linecolor": "white",
            "showbackground": true,
            "ticks": "",
            "zerolinecolor": "white"
           },
           "zaxis": {
            "backgroundcolor": "#E5ECF6",
            "gridcolor": "white",
            "gridwidth": 2,
            "linecolor": "white",
            "showbackground": true,
            "ticks": "",
            "zerolinecolor": "white"
           }
          },
          "shapedefaults": {
           "line": {
            "color": "#2a3f5f"
           }
          },
          "ternary": {
           "aaxis": {
            "gridcolor": "white",
            "linecolor": "white",
            "ticks": ""
           },
           "baxis": {
            "gridcolor": "white",
            "linecolor": "white",
            "ticks": ""
           },
           "bgcolor": "#E5ECF6",
           "caxis": {
            "gridcolor": "white",
            "linecolor": "white",
            "ticks": ""
           }
          },
          "title": {
           "x": 0.05
          },
          "xaxis": {
           "automargin": true,
           "gridcolor": "white",
           "linecolor": "white",
           "ticks": "",
           "title": {
            "standoff": 15
           },
           "zerolinecolor": "white",
           "zerolinewidth": 2
          },
          "yaxis": {
           "automargin": true,
           "gridcolor": "white",
           "linecolor": "white",
           "ticks": "",
           "title": {
            "standoff": 15
           },
           "zerolinecolor": "white",
           "zerolinewidth": 2
          }
         }
        },
        "title": {
         "text": "Covid-19"
        }
       }
      },
      "text/html": [
       "<div>\n",
       "        \n",
       "        \n",
       "            <div id=\"0920cdf3-1395-47a7-8a2e-955fee52c199\" class=\"plotly-graph-div\" style=\"height:525px; width:100%;\"></div>\n",
       "            <script type=\"text/javascript\">\n",
       "                require([\"plotly\"], function(Plotly) {\n",
       "                    window.PLOTLYENV=window.PLOTLYENV || {};\n",
       "                    \n",
       "                if (document.getElementById(\"0920cdf3-1395-47a7-8a2e-955fee52c199\")) {\n",
       "                    Plotly.newPlot(\n",
       "                        '0920cdf3-1395-47a7-8a2e-955fee52c199',\n",
       "                        [{\"lat\": [30.97559928894043, 43.0, 32.0, 36.0, 40.0, 51.0, 46.22760009765625, 46.818199157714844, 23.341699600219727, 33.88199996948242], \"lon\": [112.27069854736328, 12.0, 53.0, 128.0, -4.0, 9.0, 2.21370005607605, 8.227499961853027, 113.42440032958984, 113.61399841308594], \"marker\": {\"color\": \"royalblue\", \"line\": {\"color\": \"rgb(40,40,40)\", \"width\": 0.5}, \"size\": [677.9, 211.57, 127.29, 80.86, 63.91, 45.85, 44.69, 13.59, 13.56, 12.73], \"sizemode\": \"area\"}, \"name\": \"0 - 10\", \"text\": [\"Hubei<br>Confirmed 67790\", \"Italy<br>Confirmed 21157\", \"Iran<br>Confirmed 12729\", \"Korea, South<br>Confirmed 8086\", \"Spain<br>Confirmed 6391\", \"Germany<br>Confirmed 4585\", \"France<br>Confirmed 4469\", \"Switzerland<br>Confirmed 1359\", \"Guangdong<br>Confirmed 1356\", \"Henan<br>Confirmed 1273\"], \"type\": \"scattergeo\"}, {\"lat\": [55.37810134887695, 60.47200012207031, 27.61039924621582, 31.825700759887695, 63.0, 52.132598876953125, 27.61400032043457, 56.26390075683594, 36.0, 36.34270095825195, 35.44369888305664, 50.83330154418945, 47.51620101928711, 32.971099853515625, 30.057199478149414, 47.400901794433594, 30.61709976196289, 42.16569900512695, 47.86199951171875, 40.18239974975586, 31.20199966430664, 36.1161994934082, 25.354799270629883, 39.54899978637695, 26.078899383544922, 23.82979965209961, 35.19169998168945, 2.5, 39.07419967651367, 64.0, 1.2833000421524048, 26.02750015258789, 31.0, 49.817501068115234, 46.15119934082031, 24.974000930786133, 39.399898529052734, 19.195899963378906, 64.96309661865234], \"lon\": [-3.436000108718872, 8.468899726867676, 111.70880126953125, 117.22640228271484, 16.0, 5.291299819946289, 115.72209930419922, 9.501799583435059, 138.0, 118.1498031616211, 139.63800048828125, 4.0, 14.550100326538086, 119.45500183105469, 107.8740005493164, -121.4905014038086, 102.71029663085938, -74.9480972290039, 127.7614974975586, 116.41419982910156, 121.4490966796875, -119.68160247802734, 51.18389892578125, 116.13059997558594, 117.98739624023438, 108.78810119628906, 108.87010192871094, 112.5, 21.82430076599121, 26.0, 103.83329772949219, 50.54999923706055, 35.0, 15.472999572753906, 14.995499610900879, 101.48699951171875, -8.224499702453613, 109.74530029296875, -19.02079963684082], \"marker\": {\"color\": \"crimson\", \"line\": {\"color\": \"rgb(40,40,40)\", \"width\": 0.5}, \"size\": [114.0, 109.0, 101.8, 99.0, 96.1, 95.9, 93.5, 82.7, 77.3, 76.0, 69.6, 68.9, 65.5, 63.1, 57.6, 57.2, 53.9, 52.5, 48.2, 43.7, 35.3, 34.0, 33.7, 31.8, 29.6, 25.2, 24.5, 23.8, 22.8, 22.5, 21.2, 21.0, 19.3, 18.9, 18.1, 17.4, 16.9, 16.8, 15.6], \"sizemode\": \"area\"}, \"name\": \"11 - 50\", \"text\": [\"United Kingdom<br>Confirmed 1140\", \"Norway<br>Confirmed 1090\", \"Hunan<br>Confirmed 1018\", \"Anhui<br>Confirmed 990\", \"Sweden<br>Confirmed 961\", \"Netherlands<br>Confirmed 959\", \"Jiangxi<br>Confirmed 935\", \"Denmark<br>Confirmed 827\", \"Japan<br>Confirmed 773\", \"Shandong<br>Confirmed 760\", \"Diamond Princess<br>Confirmed 696\", \"Belgium<br>Confirmed 689\", \"Austria<br>Confirmed 655\", \"Jiangsu<br>Confirmed 631\", \"Chongqing<br>Confirmed 576\", \"Washington<br>Confirmed 572\", \"Sichuan<br>Confirmed 539\", \"New York<br>Confirmed 525\", \"Heilongjiang<br>Confirmed 482\", \"Beijing<br>Confirmed 437\", \"Shanghai<br>Confirmed 353\", \"California<br>Confirmed 340\", \"Qatar<br>Confirmed 337\", \"Hebei<br>Confirmed 318\", \"Fujian<br>Confirmed 296\", \"Guangxi<br>Confirmed 252\", \"Shaanxi<br>Confirmed 245\", \"Malaysia<br>Confirmed 238\", \"Greece<br>Confirmed 228\", \"Finland<br>Confirmed 225\", \"Singapore<br>Confirmed 212\", \"Bahrain<br>Confirmed 210\", \"Israel<br>Confirmed 193\", \"Czechia<br>Confirmed 189\", \"Slovenia<br>Confirmed 181\", \"Yunnan<br>Confirmed 174\", \"Portugal<br>Confirmed 169\", \"Hainan<br>Confirmed 168\", \"Iceland<br>Confirmed 156\"], \"type\": \"scattergeo\"}, {\"lat\": [26.815399169921875, 22.299999237060547, 42.230201721191406, 39.30540084838867, 37.577701568603516, 37.809898376464844, 53.142398834228516, 41.29560089111328, 45.943199157714844, 58.595298767089844, -33.86880111694336, 13.0, 33.0, 26.0, 29.5, 51.91939926147461, 24.0, 21.0, 39.05979919433594, -0.7893000245094299, 33.854698181152344, 43.666099548339844, 24.0, 15.0, 43.94240188598633, 51.25379943847656, 31.16950035095215, 41.11289978027344, 27.766300201416016, 44.09349822998047, 37.26919937133789, 40.29890060424805, 33.04059982299805, 49.28269958496094, 40.3494987487793, -35.67509841918945, 60.0, 31.054500579833984, 23.700000762939453, 16.0, 49.81529998779297, -37.8135986328125, 40.59080123901367, 44.01649856567383, -28.016700744628906, 35.44369888305664, 48.66899871826172, 42.7338981628418, 37.7692985534668], \"lon\": [106.87480163574219, 114.19999694824219, -71.53009796142578, 117.322998046875, 112.29219818115234, 101.05829620361328, -7.6921000480651855, 122.6084976196289, 24.966800689697266, 25.013599395751953, 151.2093048095703, 122.0, 44.0, 30.0, 47.75, 19.145099639892578, 45.0, 78.0, -105.31109619140625, 113.92130279541016, 35.862300872802734, 126.19229888916016, 54.0, 101.0, 12.457799911499023, -85.32319641113281, -91.8677978515625, 85.24009704589844, -81.68679809570312, 113.9448013305664, 106.16549682617188, -74.52100372314453, -83.64309692382812, -123.12069702148438, -88.98609924316406, -71.54299926757812, 90.0, -97.5634994506836, 121.0, 108.0, 6.1296000480651855, 144.96310424804688, -77.20980072021484, 21.00589942932129, 153.39999389648438, 139.63800048828125, 19.698999404907227, 25.48579978942871, -78.16999816894531], \"marker\": {\"color\": \"lightseagreen\", \"line\": {\"color\": \"rgb(40,40,40)\", \"width\": 0.5}, \"size\": [29.2, 28.0, 27.6, 27.2, 26.6, 25.8, 25.8, 25.0, 24.6, 23.0, 22.4, 22.2, 22.0, 21.8, 20.8, 20.6, 20.6, 20.4, 20.2, 19.2, 18.6, 18.6, 17.0, 16.4, 16.0, 15.8, 15.4, 15.2, 15.2, 15.0, 15.0, 13.8, 13.2, 12.8, 12.8, 12.2, 11.8, 11.4, 10.6, 10.6, 10.2, 9.8, 9.4, 9.2, 9.2, 9.2, 8.8, 8.2, 8.2], \"sizemode\": \"area\"}, \"name\": \"51 - 100\", \"text\": [\"Guizhou<br>Confirmed 146\", \"Hong Kong<br>Confirmed 140\", \"Massachusetts<br>Confirmed 138\", \"Tianjin<br>Confirmed 136\", \"Shanxi<br>Confirmed 133\", \"Gansu<br>Confirmed 129\", \"Ireland<br>Confirmed 129\", \"Liaoning<br>Confirmed 125\", \"Romania<br>Confirmed 123\", \"Estonia<br>Confirmed 115\", \"New South Wales<br>Confirmed 112\", \"Philippines<br>Confirmed 111\", \"Iraq<br>Confirmed 110\", \"Egypt<br>Confirmed 109\", \"Kuwait<br>Confirmed 104\", \"Poland<br>Confirmed 103\", \"Saudi Arabia<br>Confirmed 103\", \"India<br>Confirmed 102\", \"Colorado<br>Confirmed 101\", \"Indonesia<br>Confirmed 96\", \"Lebanon<br>Confirmed 93\", \"Jilin<br>Confirmed 93\", \"United Arab Emirates<br>Confirmed 85\", \"Thailand<br>Confirmed 82\", \"San Marino<br>Confirmed 80\", \"Ontario<br>Confirmed 79\", \"Louisiana<br>Confirmed 77\", \"Xinjiang<br>Confirmed 76\", \"Florida<br>Confirmed 76\", \"Inner Mongolia<br>Confirmed 75\", \"Ningxia<br>Confirmed 75\", \"New Jersey<br>Confirmed 69\", \"Georgia<br>Confirmed 66\", \"British Columbia<br>Confirmed 64\", \"Illinois<br>Confirmed 64\", \"Chile<br>Confirmed 61\", \"Russia<br>Confirmed 59\", \"Texas<br>Confirmed 57\", \"Taiwan*<br>Confirmed 53\", \"Vietnam<br>Confirmed 53\", \"Luxembourg<br>Confirmed 51\", \"Victoria<br>Confirmed 49\", \"Pennsylvania<br>Confirmed 47\", \"Serbia<br>Confirmed 46\", \"Queensland<br>Confirmed 46\", \"Diamond Princess<br>Confirmed 46\", \"Slovakia<br>Confirmed 44\", \"Bulgaria<br>Confirmed 41\", \"Virginia<br>Confirmed 41\"], \"type\": \"scattergeo\"}, {\"lat\": [45.099998474121094, 41.15330123901367, -9.1899995803833, -30.559499740600586, 28.033899307250977, 8.538000106811523, -38.416099548339844, 35.747798919677734, 44.571998596191406, 30.37529945373535, 47.162498474121094, 42.315399169921875, 53.93330001831055, -1.8312000036239624, 44.26850128173828, 53.709800720214844, 39.063899993896484, 35.126399993896484, 23.63450050354004, 9.748900413513184, 56.879600524902344, 40.38880157470703, 43.32659912109375, 35.63010025024414, 41.597801208496094, 4.570899963378906, 38.313499450683594, 45.69449996948242, 37.64889907836914, 41.68090057373047, -34.92850112915039, 21.0, 33.85689926147461, 34.0, 40.06909942626953, 43.91590118408203, 35.9375, 35.745201110839844, 42.01150131225586, 31.79170036315918, -31.95050048828125, 52.93989944458008, 39.84939956665039, 40.14310073852539, 41.12540054321289, 37.66809844970703, 41.60860061645508, 33.729801177978516, 47.411598205566406], \"lon\": [15.199999809265137, 20.16830062866211, -75.01519775390625, 22.9375, 1.659600019454956, -80.78209686279297, -63.61669921875, -86.69229888916016, -122.0708999633789, 69.34510040283203, 19.503299713134766, 43.35689926147461, -116.57649993896484, -78.18340301513672, -89.61650085449219, 27.953399658203125, -76.8021011352539, 33.429901123046875, -102.55280303955078, -83.75340270996094, 24.603200912475586, -82.76490020751953, -84.53610229492188, -79.806396484375, -72.75540161132812, -74.29730224609375, -117.0553970336914, -93.90019989013672, -122.66549682617188, -71.51180267333984, 138.60069274902344, 57.0, -80.94499969482422, 9.0, 45.03820037841797, 17.679100036621094, 14.375399589538574, 95.99559783935547, -93.21050262451172, -7.092599868774414, 115.8604965209961, -73.54910278320312, -86.25830078125, 47.576900482177734, -98.26809692382812, -84.67009735107422, 21.74530029296875, -111.43119812011719, 28.36989974975586], \"marker\": {\"color\": \"orange\", \"line\": {\"color\": \"rgb(40,40,40)\", \"width\": 0.5}, \"size\": [38.0, 38.0, 38.0, 38.0, 37.0, 36.0, 34.0, 32.0, 32.0, 31.0, 30.0, 30.0, 29.0, 28.0, 27.0, 27.0, 26.0, 26.0, 26.0, 26.0, 26.0, 26.0, 25.0, 24.0, 22.0, 22.0, 21.0, 21.0, 21.0, 20.0, 19.0, 19.0, 19.0, 18.0, 18.0, 18.0, 18.0, 18.0, 17.0, 17.0, 17.0, 17.0, 16.0, 15.0, 14.0, 14.0, 14.0, 12.0, 12.0], \"sizemode\": \"area\"}, \"name\": \"101 - 150\", \"text\": [\"Croatia<br>Confirmed 38\", \"Albania<br>Confirmed 38\", \"Peru<br>Confirmed 38\", \"South Africa<br>Confirmed 38\", \"Algeria<br>Confirmed 37\", \"Panama<br>Confirmed 36\", \"Argentina<br>Confirmed 34\", \"Tennessee<br>Confirmed 32\", \"Oregon<br>Confirmed 32\", \"Pakistan<br>Confirmed 31\", \"Hungary<br>Confirmed 30\", \"Georgia<br>Confirmed 30\", \"Alberta<br>Confirmed 29\", \"Ecuador<br>Confirmed 28\", \"Wisconsin<br>Confirmed 27\", \"Belarus<br>Confirmed 27\", \"Maryland<br>Confirmed 26\", \"Cyprus<br>Confirmed 26\", \"Mexico<br>Confirmed 26\", \"Costa Rica<br>Confirmed 26\", \"Latvia<br>Confirmed 26\", \"Ohio<br>Confirmed 26\", \"Michigan<br>Confirmed 25\", \"North Carolina<br>Confirmed 24\", \"Connecticut<br>Confirmed 22\", \"Colombia<br>Confirmed 22\", \"Nevada<br>Confirmed 21\", \"Minnesota<br>Confirmed 21\", \"Grand Princess<br>Confirmed 21\", \"Rhode Island<br>Confirmed 20\", \"South Australia<br>Confirmed 19\", \"Oman<br>Confirmed 19\", \"South Carolina<br>Confirmed 19\", \"Tunisia<br>Confirmed 18\", \"Armenia<br>Confirmed 18\", \"Bosnia and Herzegovina<br>Confirmed 18\", \"Malta<br>Confirmed 18\", \"Qinghai<br>Confirmed 18\", \"Iowa<br>Confirmed 17\", \"Morocco<br>Confirmed 17\", \"Western Australia<br>Confirmed 17\", \"Quebec<br>Confirmed 17\", \"Indiana<br>Confirmed 16\", \"Azerbaijan<br>Confirmed 15\", \"Nebraska<br>Confirmed 14\", \"Kentucky<br>Confirmed 14\", \"North Macedonia<br>Confirmed 14\", \"Arizona<br>Confirmed 12\", \"Moldova<br>Confirmed 12\"], \"type\": \"scattergeo\"}, {\"lat\": [33.0, 18.735700607299805, -16.290199279785156, 14.497400283813477, 7.0, 22.16670036315918, 34.84049987792969, 40.150001525878906, 3.2028000354766846, 38.89739990234375, 44.299800872802734, 61.892601013183594, 14.641500473022461, 55.16939926147461, 38.5265998840332, 18.109600067138672, 43.45249938964844, 11.550000190734863, 32.741600036621094, 48.01959991455078, 32.318199157714844, 39.31850051879883, -23.4424991607666, -40.90060043334961, -21.115100860595703, 44.0458984375, 3.9339001178741455, -41.454498291015625, 38.96369934082031, 46.92190170288086, 4.0, 38.45610046386719, 22.0, 47.13999938964844, -32.52280044555664, 35.56529998779297, 21.09429931640625, 53.76089859008789, 23.684999465942383, -17.67970085144043, 44.69390106201172, 18.220800399780273, 48.379398345947266, 7.946499824523926, -4.679599761962891, 52.93989944458008, 12.521100044250488, 10.691800117492676, -4.038300037384033, 49.189998626708984, 6.423799991607666, -22.957599639892578, 37.64889907836914, 18.07080078125, 44.240501403808594, 49.37229919433594, 15.199999809265137, 42.75600051879883, 3.8480000495910645, 12.238300323486328, 43.733299255371094, 9.081999778747559, 9.145000457763672, 17.060800552368164, -0.023600000888109207, 41.90290069580078, 9.945599555969238, 12.862799644470215, 31.692699432373047, 31.239999771118164, 46.86249923706055, 16.264999389648438, 19.31329917907715, 8.619500160217285, -35.4734992980957, 5.0, 27.51420021057129, 7.539999961853027, -12.463399887084961, 28.16670036315918, 61.37070083618164, 15.783499717712402, 47.528900146484375, 36.14080047607422, 12.984299659729004, 13.90939998626709, -1.9402999877929688, 21.00790023803711, 49.45000076293945, 46.56529998779297, -0.8036999702453613, 42.50630187988281, 3.919300079345703, -26.522499084472656, 17.899999618530273, 18.335800170898438], \"lon\": [65.0, -70.1626968383789, -63.58869934082031, -14.452400207519531, 81.0, 113.55000305175781, -106.24849700927734, -111.86239624023438, 73.220703125, -77.02680206298828, -99.43879699707031, -6.911799907684326, -61.024200439453125, 23.88129997253418, -96.72650146484375, -77.29750061035156, -71.56390380859375, 104.91670227050781, -89.67870330810547, 66.92369842529297, -86.90229797363281, -75.5071029663086, -58.44380187988281, 174.88600158691406, 55.536399841308594, -72.71070098876953, -53.12580108642578, 145.970703125, 35.24330139160156, -110.45439910888672, -53.0, -92.28839874267578, -80.0, 9.550000190734863, -55.76580047607422, -96.92890167236328, -157.49830627441406, -98.81390380859375, 90.3563003540039, 149.40679931640625, -69.38189697265625, -66.59010314941406, 31.165599822998047, -1.0232000350952148, 55.492000579833984, -106.45089721679688, -69.96829986572266, -61.22249984741211, 21.758699417114258, -2.109999895095825, -66.5896987915039, 18.490400314331055, -122.66549682617188, -63.05009841918945, -114.47879791259766, -2.3643999099731445, -86.24189758300781, -107.30249786376953, 11.502099990844727, -1.5615999698638916, 7.4166998863220215, 8.675299644470215, 40.48970031738281, -61.7963981628418, 37.90620040893555, 12.453399658203125, -9.696599960327148, 30.217599868774414, 88.09239959716797, 36.5099983215332, 103.8467025756836, -61.55099868774414, -81.25460052490234, 0.8248000144958496, 149.0124053955078, -58.75, 90.43360137939453, -5.547100067138672, 130.84559631347656, 84.25, -152.40440368652344, -90.23079681396484, -99.78399658203125, -5.353600025177002, -61.287200927734375, -60.97890090942383, 29.873899459838867, 10.940799713134766, -2.5799999237060547, -66.46189880371094, 11.609399795532227, 1.5218000411987305, -56.027801513671875, 31.465900421142578, -62.83330154418945, -64.89630126953125], \"marker\": {\"color\": \"lightgrey\", \"line\": {\"color\": \"rgb(40,40,40)\", \"width\": 0.5}, \"size\": [11.0, 11.0, 10.0, 10.0, 10.0, 10.0, 10.0, 10.0, 10.0, 10.0, 9.0, 9.0, 9.0, 8.0, 8.0, 8.0, 7.0, 7.0, 6.0, 6.0, 6.0, 6.0, 6.0, 6.0, 6.0, 5.0, 5.0, 5.0, 5.0, 5.0, 5.0, 4.0, 4.0, 4.0, 4.0, 4.0, 4.0, 4.0, 3.0, 3.0, 3.0, 3.0, 3.0, 3.0, 2.0, 2.0, 2.0, 2.0, 2.0, 2.0, 2.0, 2.0, 2.0, 2.0, 2.0, 2.0, 2.0, 2.0, 2.0, 2.0, 2.0, 2.0, 1.0, 1.0, 1.0, 1.0, 1.0, 1.0, 1.0, 1.0, 1.0, 1.0, 1.0, 1.0, 1.0, 1.0, 1.0, 1.0, 1.0, 1.0, 1.0, 1.0, 1.0, 1.0, 1.0, 1.0, 1.0, 1.0, 1.0, 1.0, 1.0, 1.0, 1.0, 1.0, 1.0, 1.0], \"sizemode\": \"area\"}, \"name\": \"151 - 247\", \"text\": [\"Afghanistan<br>Confirmed 11\", \"Dominican Republic<br>Confirmed 11\", \"Bolivia<br>Confirmed 10\", \"Senegal<br>Confirmed 10\", \"Sri Lanka<br>Confirmed 10\", \"Macau<br>Confirmed 10\", \"New Mexico<br>Confirmed 10\", \"Utah<br>Confirmed 10\", \"Maldives<br>Confirmed 10\", \"District of Columbia<br>Confirmed 10\", \"South Dakota<br>Confirmed 9\", \"Faroe Islands<br>Confirmed 9\", \"Martinique<br>Confirmed 9\", \"Lithuania<br>Confirmed 8\", \"Kansas<br>Confirmed 8\", \"Jamaica<br>Confirmed 8\", \"New Hampshire<br>Confirmed 7\", \"Cambodia<br>Confirmed 7\", \"Mississippi<br>Confirmed 6\", \"Kazakhstan<br>Confirmed 6\", \"Alabama<br>Confirmed 6\", \"Delaware<br>Confirmed 6\", \"Paraguay<br>Confirmed 6\", \"New Zealand<br>Confirmed 6\", \"Reunion<br>Confirmed 6\", \"Vermont<br>Confirmed 5\", \"French Guiana<br>Confirmed 5\", \"Tasmania<br>Confirmed 5\", \"Turkey<br>Confirmed 5\", \"Montana<br>Confirmed 5\", \"Fench Guiana<br>Confirmed 5\", \"Missouri<br>Confirmed 4\", \"Cuba<br>Confirmed 4\", \"Liechtenstein<br>Confirmed 4\", \"Uruguay<br>Confirmed 4\", \"Oklahoma<br>Confirmed 4\", \"Hawaii<br>Confirmed 4\", \"Manitoba<br>Confirmed 4\", \"Bangladesh<br>Confirmed 3\", \"French Polynesia<br>Confirmed 3\", \"Maine<br>Confirmed 3\", \"Puerto Rico<br>Confirmed 3\", \"Ukraine<br>Confirmed 3\", \"Ghana<br>Confirmed 3\", \"Seychelles<br>Confirmed 2\", \"Saskatchewan<br>Confirmed 2\", \"Aruba<br>Confirmed 2\", \"Trinidad and Tobago<br>Confirmed 2\", \"Congo (Kinshasa)<br>Confirmed 2\", \"Jersey<br>Confirmed 2\", \"Venezuela<br>Confirmed 2\", \"Namibia<br>Confirmed 2\", \"Grand Princess<br>Confirmed 2\", \"St Martin<br>Confirmed 2\", \"Idaho<br>Confirmed 2\", \"Channel Islands<br>Confirmed 2\", \"Honduras<br>Confirmed 2\", \"Wyoming<br>Confirmed 2\", \"Cameroon<br>Confirmed 2\", \"Burkina Faso<br>Confirmed 2\", \"Monaco<br>Confirmed 2\", \"Nigeria<br>Confirmed 2\", \"Ethiopia<br>Confirmed 1\", \"Antigua and Barbuda<br>Confirmed 1\", \"Kenya<br>Confirmed 1\", \"Holy See<br>Confirmed 1\", \"Guinea<br>Confirmed 1\", \"Sudan<br>Confirmed 1\", \"Tibet<br>Confirmed 1\", \"Jordan<br>Confirmed 1\", \"Mongolia<br>Confirmed 1\", \"Guadeloupe<br>Confirmed 1\", \"Cayman Islands<br>Confirmed 1\", \"Togo<br>Confirmed 1\", \"Australian Capital Territory<br>Confirmed 1\", \"Guyana<br>Confirmed 1\", \"Bhutan<br>Confirmed 1\", \"Cote d'Ivoire<br>Confirmed 1\", \"Northern Territory<br>Confirmed 1\", \"Nepal<br>Confirmed 1\", \"Alaska<br>Confirmed 1\", \"Guatemala<br>Confirmed 1\", \"North Dakota<br>Confirmed 1\", \"Gibraltar<br>Confirmed 1\", \"Saint Vincent and the Grenadines<br>Confirmed 1\", \"Saint Lucia<br>Confirmed 1\", \"Rwanda<br>Confirmed 1\", \"Mauritania<br>Confirmed 1\", \"Guernsey<br>Confirmed 1\", \"New Brunswick<br>Confirmed 1\", \"Gabon<br>Confirmed 1\", \"Andorra<br>Confirmed 1\", \"Suriname<br>Confirmed 1\", \"Eswatini<br>Confirmed 1\", \"Saint Barthelemy<br>Confirmed 1\", \"Virgin Islands, U.S.<br>Confirmed 1\"], \"type\": \"scattergeo\"}],\n",
       "                        {\"geo\": {\"landcolor\": \"rgb(217, 217, 217)\", \"scope\": \"world\", \"showcountries\": true}, \"showlegend\": true, \"template\": {\"data\": {\"bar\": [{\"error_x\": {\"color\": \"#2a3f5f\"}, \"error_y\": {\"color\": \"#2a3f5f\"}, \"marker\": {\"line\": {\"color\": \"#E5ECF6\", \"width\": 0.5}}, \"type\": \"bar\"}], \"barpolar\": [{\"marker\": {\"line\": {\"color\": \"#E5ECF6\", \"width\": 0.5}}, \"type\": \"barpolar\"}], \"carpet\": [{\"aaxis\": {\"endlinecolor\": \"#2a3f5f\", \"gridcolor\": \"white\", \"linecolor\": \"white\", \"minorgridcolor\": \"white\", \"startlinecolor\": \"#2a3f5f\"}, \"baxis\": {\"endlinecolor\": \"#2a3f5f\", \"gridcolor\": \"white\", \"linecolor\": \"white\", \"minorgridcolor\": \"white\", \"startlinecolor\": \"#2a3f5f\"}, \"type\": \"carpet\"}], \"choropleth\": [{\"colorbar\": {\"outlinewidth\": 0, \"ticks\": \"\"}, \"type\": \"choropleth\"}], \"contour\": [{\"colorbar\": {\"outlinewidth\": 0, \"ticks\": \"\"}, \"colorscale\": [[0.0, \"#0d0887\"], [0.1111111111111111, \"#46039f\"], [0.2222222222222222, \"#7201a8\"], [0.3333333333333333, \"#9c179e\"], [0.4444444444444444, \"#bd3786\"], [0.5555555555555556, \"#d8576b\"], [0.6666666666666666, \"#ed7953\"], [0.7777777777777778, \"#fb9f3a\"], [0.8888888888888888, \"#fdca26\"], [1.0, \"#f0f921\"]], \"type\": \"contour\"}], \"contourcarpet\": [{\"colorbar\": {\"outlinewidth\": 0, \"ticks\": \"\"}, \"type\": \"contourcarpet\"}], \"heatmap\": [{\"colorbar\": {\"outlinewidth\": 0, \"ticks\": \"\"}, \"colorscale\": [[0.0, \"#0d0887\"], [0.1111111111111111, \"#46039f\"], [0.2222222222222222, \"#7201a8\"], [0.3333333333333333, \"#9c179e\"], [0.4444444444444444, \"#bd3786\"], [0.5555555555555556, \"#d8576b\"], [0.6666666666666666, \"#ed7953\"], [0.7777777777777778, \"#fb9f3a\"], [0.8888888888888888, \"#fdca26\"], [1.0, \"#f0f921\"]], \"type\": \"heatmap\"}], \"heatmapgl\": [{\"colorbar\": {\"outlinewidth\": 0, \"ticks\": \"\"}, \"colorscale\": [[0.0, \"#0d0887\"], [0.1111111111111111, \"#46039f\"], [0.2222222222222222, \"#7201a8\"], [0.3333333333333333, \"#9c179e\"], [0.4444444444444444, \"#bd3786\"], [0.5555555555555556, \"#d8576b\"], [0.6666666666666666, \"#ed7953\"], [0.7777777777777778, \"#fb9f3a\"], [0.8888888888888888, \"#fdca26\"], [1.0, \"#f0f921\"]], \"type\": \"heatmapgl\"}], \"histogram\": [{\"marker\": {\"colorbar\": {\"outlinewidth\": 0, \"ticks\": \"\"}}, \"type\": \"histogram\"}], \"histogram2d\": [{\"colorbar\": {\"outlinewidth\": 0, \"ticks\": \"\"}, \"colorscale\": [[0.0, \"#0d0887\"], [0.1111111111111111, \"#46039f\"], [0.2222222222222222, \"#7201a8\"], [0.3333333333333333, \"#9c179e\"], [0.4444444444444444, \"#bd3786\"], [0.5555555555555556, \"#d8576b\"], [0.6666666666666666, \"#ed7953\"], [0.7777777777777778, \"#fb9f3a\"], [0.8888888888888888, \"#fdca26\"], [1.0, \"#f0f921\"]], \"type\": \"histogram2d\"}], \"histogram2dcontour\": [{\"colorbar\": {\"outlinewidth\": 0, \"ticks\": \"\"}, \"colorscale\": [[0.0, \"#0d0887\"], [0.1111111111111111, \"#46039f\"], [0.2222222222222222, \"#7201a8\"], [0.3333333333333333, \"#9c179e\"], [0.4444444444444444, \"#bd3786\"], [0.5555555555555556, \"#d8576b\"], [0.6666666666666666, \"#ed7953\"], [0.7777777777777778, \"#fb9f3a\"], [0.8888888888888888, \"#fdca26\"], [1.0, \"#f0f921\"]], \"type\": \"histogram2dcontour\"}], \"mesh3d\": [{\"colorbar\": {\"outlinewidth\": 0, \"ticks\": \"\"}, \"type\": \"mesh3d\"}], \"parcoords\": [{\"line\": {\"colorbar\": {\"outlinewidth\": 0, \"ticks\": \"\"}}, \"type\": \"parcoords\"}], \"pie\": [{\"automargin\": true, \"type\": \"pie\"}], \"scatter\": [{\"marker\": {\"colorbar\": {\"outlinewidth\": 0, \"ticks\": \"\"}}, \"type\": \"scatter\"}], \"scatter3d\": [{\"line\": {\"colorbar\": {\"outlinewidth\": 0, \"ticks\": \"\"}}, \"marker\": {\"colorbar\": {\"outlinewidth\": 0, \"ticks\": \"\"}}, \"type\": \"scatter3d\"}], \"scattercarpet\": [{\"marker\": {\"colorbar\": {\"outlinewidth\": 0, \"ticks\": \"\"}}, \"type\": \"scattercarpet\"}], \"scattergeo\": [{\"marker\": {\"colorbar\": {\"outlinewidth\": 0, \"ticks\": \"\"}}, \"type\": \"scattergeo\"}], \"scattergl\": [{\"marker\": {\"colorbar\": {\"outlinewidth\": 0, \"ticks\": \"\"}}, \"type\": \"scattergl\"}], \"scattermapbox\": [{\"marker\": {\"colorbar\": {\"outlinewidth\": 0, \"ticks\": \"\"}}, \"type\": \"scattermapbox\"}], \"scatterpolar\": [{\"marker\": {\"colorbar\": {\"outlinewidth\": 0, \"ticks\": \"\"}}, \"type\": \"scatterpolar\"}], \"scatterpolargl\": [{\"marker\": {\"colorbar\": {\"outlinewidth\": 0, \"ticks\": \"\"}}, \"type\": \"scatterpolargl\"}], \"scatterternary\": [{\"marker\": {\"colorbar\": {\"outlinewidth\": 0, \"ticks\": \"\"}}, \"type\": \"scatterternary\"}], \"surface\": [{\"colorbar\": {\"outlinewidth\": 0, \"ticks\": \"\"}, \"colorscale\": [[0.0, \"#0d0887\"], [0.1111111111111111, \"#46039f\"], [0.2222222222222222, \"#7201a8\"], [0.3333333333333333, \"#9c179e\"], [0.4444444444444444, \"#bd3786\"], [0.5555555555555556, \"#d8576b\"], [0.6666666666666666, \"#ed7953\"], [0.7777777777777778, \"#fb9f3a\"], [0.8888888888888888, \"#fdca26\"], [1.0, \"#f0f921\"]], \"type\": \"surface\"}], \"table\": [{\"cells\": {\"fill\": {\"color\": \"#EBF0F8\"}, \"line\": {\"color\": \"white\"}}, \"header\": {\"fill\": {\"color\": \"#C8D4E3\"}, \"line\": {\"color\": \"white\"}}, \"type\": \"table\"}]}, \"layout\": {\"annotationdefaults\": {\"arrowcolor\": \"#2a3f5f\", \"arrowhead\": 0, \"arrowwidth\": 1}, \"coloraxis\": {\"colorbar\": {\"outlinewidth\": 0, \"ticks\": \"\"}}, \"colorscale\": {\"diverging\": [[0, \"#8e0152\"], [0.1, \"#c51b7d\"], [0.2, \"#de77ae\"], [0.3, \"#f1b6da\"], [0.4, \"#fde0ef\"], [0.5, \"#f7f7f7\"], [0.6, \"#e6f5d0\"], [0.7, \"#b8e186\"], [0.8, \"#7fbc41\"], [0.9, \"#4d9221\"], [1, \"#276419\"]], \"sequential\": [[0.0, \"#0d0887\"], [0.1111111111111111, \"#46039f\"], [0.2222222222222222, \"#7201a8\"], [0.3333333333333333, \"#9c179e\"], [0.4444444444444444, \"#bd3786\"], [0.5555555555555556, \"#d8576b\"], [0.6666666666666666, \"#ed7953\"], [0.7777777777777778, \"#fb9f3a\"], [0.8888888888888888, \"#fdca26\"], [1.0, \"#f0f921\"]], \"sequentialminus\": [[0.0, \"#0d0887\"], [0.1111111111111111, \"#46039f\"], [0.2222222222222222, \"#7201a8\"], [0.3333333333333333, \"#9c179e\"], [0.4444444444444444, \"#bd3786\"], [0.5555555555555556, \"#d8576b\"], [0.6666666666666666, \"#ed7953\"], [0.7777777777777778, \"#fb9f3a\"], [0.8888888888888888, \"#fdca26\"], [1.0, \"#f0f921\"]]}, \"colorway\": [\"#636efa\", \"#EF553B\", \"#00cc96\", \"#ab63fa\", \"#FFA15A\", \"#19d3f3\", \"#FF6692\", \"#B6E880\", \"#FF97FF\", \"#FECB52\"], \"font\": {\"color\": \"#2a3f5f\"}, \"geo\": {\"bgcolor\": \"white\", \"lakecolor\": \"white\", \"landcolor\": \"#E5ECF6\", \"showlakes\": true, \"showland\": true, \"subunitcolor\": \"white\"}, \"hoverlabel\": {\"align\": \"left\"}, \"hovermode\": \"closest\", \"mapbox\": {\"style\": \"light\"}, \"paper_bgcolor\": \"white\", \"plot_bgcolor\": \"#E5ECF6\", \"polar\": {\"angularaxis\": {\"gridcolor\": \"white\", \"linecolor\": \"white\", \"ticks\": \"\"}, \"bgcolor\": \"#E5ECF6\", \"radialaxis\": {\"gridcolor\": \"white\", \"linecolor\": \"white\", \"ticks\": \"\"}}, \"scene\": {\"xaxis\": {\"backgroundcolor\": \"#E5ECF6\", \"gridcolor\": \"white\", \"gridwidth\": 2, \"linecolor\": \"white\", \"showbackground\": true, \"ticks\": \"\", \"zerolinecolor\": \"white\"}, \"yaxis\": {\"backgroundcolor\": \"#E5ECF6\", \"gridcolor\": \"white\", \"gridwidth\": 2, \"linecolor\": \"white\", \"showbackground\": true, \"ticks\": \"\", \"zerolinecolor\": \"white\"}, \"zaxis\": {\"backgroundcolor\": \"#E5ECF6\", \"gridcolor\": \"white\", \"gridwidth\": 2, \"linecolor\": \"white\", \"showbackground\": true, \"ticks\": \"\", \"zerolinecolor\": \"white\"}}, \"shapedefaults\": {\"line\": {\"color\": \"#2a3f5f\"}}, \"ternary\": {\"aaxis\": {\"gridcolor\": \"white\", \"linecolor\": \"white\", \"ticks\": \"\"}, \"baxis\": {\"gridcolor\": \"white\", \"linecolor\": \"white\", \"ticks\": \"\"}, \"bgcolor\": \"#E5ECF6\", \"caxis\": {\"gridcolor\": \"white\", \"linecolor\": \"white\", \"ticks\": \"\"}}, \"title\": {\"x\": 0.05}, \"xaxis\": {\"automargin\": true, \"gridcolor\": \"white\", \"linecolor\": \"white\", \"ticks\": \"\", \"title\": {\"standoff\": 15}, \"zerolinecolor\": \"white\", \"zerolinewidth\": 2}, \"yaxis\": {\"automargin\": true, \"gridcolor\": \"white\", \"linecolor\": \"white\", \"ticks\": \"\", \"title\": {\"standoff\": 15}, \"zerolinecolor\": \"white\", \"zerolinewidth\": 2}}}, \"title\": {\"text\": \"Covid-19\"}},\n",
       "                        {\"responsive\": true}\n",
       "                    ).then(function(){\n",
       "                            \n",
       "var gd = document.getElementById('0920cdf3-1395-47a7-8a2e-955fee52c199');\n",
       "var x = new MutationObserver(function (mutations, observer) {{\n",
       "        var display = window.getComputedStyle(gd).display;\n",
       "        if (!display || display === 'none') {{\n",
       "            console.log([gd, 'removed!']);\n",
       "            Plotly.purge(gd);\n",
       "            observer.disconnect();\n",
       "        }}\n",
       "}});\n",
       "\n",
       "// Listen for the removal of the full notebook cells\n",
       "var notebookContainer = gd.closest('#notebook-container');\n",
       "if (notebookContainer) {{\n",
       "    x.observe(notebookContainer, {childList: true});\n",
       "}}\n",
       "\n",
       "// Listen for the clearing of the current output cell\n",
       "var outputEl = gd.closest('.output');\n",
       "if (outputEl) {{\n",
       "    x.observe(outputEl, {childList: true});\n",
       "}}\n",
       "\n",
       "                        })\n",
       "                };\n",
       "                });\n",
       "            </script>\n",
       "        </div>"
      ]
     },
     "metadata": {},
     "output_type": "display_data"
    }
   ],
   "source": [
    "fig = go.Figure()\n",
    "\n",
    "for i in range(len(limits)):\n",
    "    lim = limits[i]\n",
    "    df_sub = df[lim[0]:lim[1]]\n",
    "    fig.add_trace(go.Scattergeo(\n",
    "        lon = df_sub['lon'],\n",
    "        lat = df_sub['lat'],\n",
    "        text = df_sub['text'],\n",
    "        marker = dict(\n",
    "            size = df_sub['pop']/scale[i],\n",
    "            color = colors[i],\n",
    "            line_color='rgb(40,40,40)',\n",
    "            line_width=0.5,\n",
    "            sizemode = 'area'\n",
    "        ),\n",
    "        name = '{0} - {1}'.format(lim[0],lim[1])))\n",
    "\n",
    "fig.update_layout(\n",
    "        title_text = 'Covid-19',\n",
    "        showlegend = True,\n",
    "        geo = dict(\n",
    "            scope = 'world',\n",
    "            landcolor = 'rgb(217, 217, 217)',\n",
    "            showcountries=True,\n",
    "        )\n",
    "    )\n",
    "\n",
    "fig.show()"
   ]
  },
  {
   "cell_type": "code",
   "execution_count": 129,
   "metadata": {},
   "outputs": [
    {
     "data": {
      "text/plain": [
       "(Scattergeo({\n",
       "     'lat': array([30.9756, 43.    , 32.    , 36.    , 40.    , 51.    , 46.2276, 46.8182,\n",
       "                   23.3417, 33.882 ], dtype=float32),\n",
       "     'lon': array([112.2707,  12.    ,  53.    , 128.    ,  -4.    ,   9.    ,   2.2137,\n",
       "                     8.2275, 113.4244, 113.614 ], dtype=float32),\n",
       "     'marker': {'color': 'royalblue',\n",
       "                'line': {'color': 'rgb(40,40,40)', 'width': 0.5},\n",
       "                'size': array([677.9 , 211.57, 127.29,  80.86,  63.91,  45.85,  44.69,  13.59,  13.56,\n",
       "                                12.73]),\n",
       "                'sizemode': 'area'},\n",
       "     'name': '0 - 10',\n",
       "     'text': array(['Hubei<br>Confirmed 67790', 'Italy<br>Confirmed 21157',\n",
       "                    'Iran<br>Confirmed 12729', 'Korea, South<br>Confirmed 8086',\n",
       "                    'Spain<br>Confirmed 6391', 'Germany<br>Confirmed 4585',\n",
       "                    'France<br>Confirmed 4469', 'Switzerland<br>Confirmed 1359',\n",
       "                    'Guangdong<br>Confirmed 1356', 'Henan<br>Confirmed 1273'], dtype=object)\n",
       " }),\n",
       " Scattergeo({\n",
       "     'lat': array([55.3781, 60.472 , 27.6104, 31.8257, 63.    , 52.1326, 27.614 , 56.2639,\n",
       "                   36.    , 36.3427, 35.4437, 50.8333, 47.5162, 32.9711, 30.0572, 47.4009,\n",
       "                   30.6171, 42.1657, 47.862 , 40.1824, 31.202 , 36.1162, 25.3548, 39.549 ,\n",
       "                   26.0789, 23.8298, 35.1917,  2.5   , 39.0742, 64.    ,  1.2833, 26.0275,\n",
       "                   31.    , 49.8175, 46.1512, 24.974 , 39.3999, 19.1959, 64.9631],\n",
       "                  dtype=float32),\n",
       "     'lon': array([  -3.436 ,    8.4689,  111.7088,  117.2264,   16.    ,    5.2913,\n",
       "                    115.7221,    9.5018,  138.    ,  118.1498,  139.638 ,    4.    ,\n",
       "                     14.5501,  119.455 ,  107.874 , -121.4905,  102.7103,  -74.9481,\n",
       "                    127.7615,  116.4142,  121.4491, -119.6816,   51.1839,  116.1306,\n",
       "                    117.9874,  108.7881,  108.8701,  112.5   ,   21.8243,   26.    ,\n",
       "                    103.8333,   50.55  ,   35.    ,   15.473 ,   14.9955,  101.487 ,\n",
       "                     -8.2245,  109.7453,  -19.0208], dtype=float32),\n",
       "     'marker': {'color': 'crimson',\n",
       "                'line': {'color': 'rgb(40,40,40)', 'width': 0.5},\n",
       "                'size': array([114. , 109. , 101.8,  99. ,  96.1,  95.9,  93.5,  82.7,  77.3,  76. ,\n",
       "                                69.6,  68.9,  65.5,  63.1,  57.6,  57.2,  53.9,  52.5,  48.2,  43.7,\n",
       "                                35.3,  34. ,  33.7,  31.8,  29.6,  25.2,  24.5,  23.8,  22.8,  22.5,\n",
       "                                21.2,  21. ,  19.3,  18.9,  18.1,  17.4,  16.9,  16.8,  15.6]),\n",
       "                'sizemode': 'area'},\n",
       "     'name': '11 - 50',\n",
       "     'text': array(['United Kingdom<br>Confirmed 1140', 'Norway<br>Confirmed 1090',\n",
       "                    'Hunan<br>Confirmed 1018', 'Anhui<br>Confirmed 990',\n",
       "                    'Sweden<br>Confirmed 961', 'Netherlands<br>Confirmed 959',\n",
       "                    'Jiangxi<br>Confirmed 935', 'Denmark<br>Confirmed 827',\n",
       "                    'Japan<br>Confirmed 773', 'Shandong<br>Confirmed 760',\n",
       "                    'Diamond Princess<br>Confirmed 696', 'Belgium<br>Confirmed 689',\n",
       "                    'Austria<br>Confirmed 655', 'Jiangsu<br>Confirmed 631',\n",
       "                    'Chongqing<br>Confirmed 576', 'Washington<br>Confirmed 572',\n",
       "                    'Sichuan<br>Confirmed 539', 'New York<br>Confirmed 525',\n",
       "                    'Heilongjiang<br>Confirmed 482', 'Beijing<br>Confirmed 437',\n",
       "                    'Shanghai<br>Confirmed 353', 'California<br>Confirmed 340',\n",
       "                    'Qatar<br>Confirmed 337', 'Hebei<br>Confirmed 318',\n",
       "                    'Fujian<br>Confirmed 296', 'Guangxi<br>Confirmed 252',\n",
       "                    'Shaanxi<br>Confirmed 245', 'Malaysia<br>Confirmed 238',\n",
       "                    'Greece<br>Confirmed 228', 'Finland<br>Confirmed 225',\n",
       "                    'Singapore<br>Confirmed 212', 'Bahrain<br>Confirmed 210',\n",
       "                    'Israel<br>Confirmed 193', 'Czechia<br>Confirmed 189',\n",
       "                    'Slovenia<br>Confirmed 181', 'Yunnan<br>Confirmed 174',\n",
       "                    'Portugal<br>Confirmed 169', 'Hainan<br>Confirmed 168',\n",
       "                    'Iceland<br>Confirmed 156'], dtype=object)\n",
       " }),\n",
       " Scattergeo({\n",
       "     'lat': array([ 26.8154,  22.3   ,  42.2302,  39.3054,  37.5777,  37.8099,  53.1424,\n",
       "                    41.2956,  45.9432,  58.5953, -33.8688,  13.    ,  33.    ,  26.    ,\n",
       "                    29.5   ,  51.9194,  24.    ,  21.    ,  39.0598,  -0.7893,  33.8547,\n",
       "                    43.6661,  24.    ,  15.    ,  43.9424,  51.2538,  31.1695,  41.1129,\n",
       "                    27.7663,  44.0935,  37.2692,  40.2989,  33.0406,  49.2827,  40.3495,\n",
       "                   -35.6751,  60.    ,  31.0545,  23.7   ,  16.    ,  49.8153, -37.8136,\n",
       "                    40.5908,  44.0165, -28.0167,  35.4437,  48.669 ,  42.7339,  37.7693],\n",
       "                  dtype=float32),\n",
       "     'lon': array([ 106.8748,  114.2   ,  -71.5301,  117.323 ,  112.2922,  101.0583,\n",
       "                     -7.6921,  122.6085,   24.9668,   25.0136,  151.2093,  122.    ,\n",
       "                     44.    ,   30.    ,   47.75  ,   19.1451,   45.    ,   78.    ,\n",
       "                   -105.3111,  113.9213,   35.8623,  126.1923,   54.    ,  101.    ,\n",
       "                     12.4578,  -85.3232,  -91.8678,   85.2401,  -81.6868,  113.9448,\n",
       "                    106.1655,  -74.521 ,  -83.6431, -123.1207,  -88.9861,  -71.543 ,\n",
       "                     90.    ,  -97.5635,  121.    ,  108.    ,    6.1296,  144.9631,\n",
       "                    -77.2098,   21.0059,  153.4   ,  139.638 ,   19.699 ,   25.4858,\n",
       "                    -78.17  ], dtype=float32),\n",
       "     'marker': {'color': 'lightseagreen',\n",
       "                'line': {'color': 'rgb(40,40,40)', 'width': 0.5},\n",
       "                'size': array([29.2, 28. , 27.6, 27.2, 26.6, 25.8, 25.8, 25. , 24.6, 23. , 22.4, 22.2,\n",
       "                               22. , 21.8, 20.8, 20.6, 20.6, 20.4, 20.2, 19.2, 18.6, 18.6, 17. , 16.4,\n",
       "                               16. , 15.8, 15.4, 15.2, 15.2, 15. , 15. , 13.8, 13.2, 12.8, 12.8, 12.2,\n",
       "                               11.8, 11.4, 10.6, 10.6, 10.2,  9.8,  9.4,  9.2,  9.2,  9.2,  8.8,  8.2,\n",
       "                                8.2]),\n",
       "                'sizemode': 'area'},\n",
       "     'name': '51 - 100',\n",
       "     'text': array(['Guizhou<br>Confirmed 146', 'Hong Kong<br>Confirmed 140',\n",
       "                    'Massachusetts<br>Confirmed 138', 'Tianjin<br>Confirmed 136',\n",
       "                    'Shanxi<br>Confirmed 133', 'Gansu<br>Confirmed 129',\n",
       "                    'Ireland<br>Confirmed 129', 'Liaoning<br>Confirmed 125',\n",
       "                    'Romania<br>Confirmed 123', 'Estonia<br>Confirmed 115',\n",
       "                    'New South Wales<br>Confirmed 112', 'Philippines<br>Confirmed 111',\n",
       "                    'Iraq<br>Confirmed 110', 'Egypt<br>Confirmed 109',\n",
       "                    'Kuwait<br>Confirmed 104', 'Poland<br>Confirmed 103',\n",
       "                    'Saudi Arabia<br>Confirmed 103', 'India<br>Confirmed 102',\n",
       "                    'Colorado<br>Confirmed 101', 'Indonesia<br>Confirmed 96',\n",
       "                    'Lebanon<br>Confirmed 93', 'Jilin<br>Confirmed 93',\n",
       "                    'United Arab Emirates<br>Confirmed 85', 'Thailand<br>Confirmed 82',\n",
       "                    'San Marino<br>Confirmed 80', 'Ontario<br>Confirmed 79',\n",
       "                    'Louisiana<br>Confirmed 77', 'Xinjiang<br>Confirmed 76',\n",
       "                    'Florida<br>Confirmed 76', 'Inner Mongolia<br>Confirmed 75',\n",
       "                    'Ningxia<br>Confirmed 75', 'New Jersey<br>Confirmed 69',\n",
       "                    'Georgia<br>Confirmed 66', 'British Columbia<br>Confirmed 64',\n",
       "                    'Illinois<br>Confirmed 64', 'Chile<br>Confirmed 61',\n",
       "                    'Russia<br>Confirmed 59', 'Texas<br>Confirmed 57',\n",
       "                    'Taiwan*<br>Confirmed 53', 'Vietnam<br>Confirmed 53',\n",
       "                    'Luxembourg<br>Confirmed 51', 'Victoria<br>Confirmed 49',\n",
       "                    'Pennsylvania<br>Confirmed 47', 'Serbia<br>Confirmed 46',\n",
       "                    'Queensland<br>Confirmed 46', 'Diamond Princess<br>Confirmed 46',\n",
       "                    'Slovakia<br>Confirmed 44', 'Bulgaria<br>Confirmed 41',\n",
       "                    'Virginia<br>Confirmed 41'], dtype=object)\n",
       " }),\n",
       " Scattergeo({\n",
       "     'lat': array([ 45.1   ,  41.1533,  -9.19  , -30.5595,  28.0339,   8.538 , -38.4161,\n",
       "                    35.7478,  44.572 ,  30.3753,  47.1625,  42.3154,  53.9333,  -1.8312,\n",
       "                    44.2685,  53.7098,  39.0639,  35.1264,  23.6345,   9.7489,  56.8796,\n",
       "                    40.3888,  43.3266,  35.6301,  41.5978,   4.5709,  38.3135,  45.6945,\n",
       "                    37.6489,  41.6809, -34.9285,  21.    ,  33.8569,  34.    ,  40.0691,\n",
       "                    43.9159,  35.9375,  35.7452,  42.0115,  31.7917, -31.9505,  52.9399,\n",
       "                    39.8494,  40.1431,  41.1254,  37.6681,  41.6086,  33.7298,  47.4116],\n",
       "                  dtype=float32),\n",
       "     'lon': array([  15.2   ,   20.1683,  -75.0152,   22.9375,    1.6596,  -80.7821,\n",
       "                    -63.6167,  -86.6923, -122.0709,   69.3451,   19.5033,   43.3569,\n",
       "                   -116.5765,  -78.1834,  -89.6165,   27.9534,  -76.8021,   33.4299,\n",
       "                   -102.5528,  -83.7534,   24.6032,  -82.7649,  -84.5361,  -79.8064,\n",
       "                    -72.7554,  -74.2973, -117.0554,  -93.9002, -122.6655,  -71.5118,\n",
       "                    138.6007,   57.    ,  -80.945 ,    9.    ,   45.0382,   17.6791,\n",
       "                     14.3754,   95.9956,  -93.2105,   -7.0926,  115.8605,  -73.5491,\n",
       "                    -86.2583,   47.5769,  -98.2681,  -84.6701,   21.7453, -111.4312,\n",
       "                     28.3699], dtype=float32),\n",
       "     'marker': {'color': 'orange',\n",
       "                'line': {'color': 'rgb(40,40,40)', 'width': 0.5},\n",
       "                'size': array([38., 38., 38., 38., 37., 36., 34., 32., 32., 31., 30., 30., 29., 28.,\n",
       "                               27., 27., 26., 26., 26., 26., 26., 26., 25., 24., 22., 22., 21., 21.,\n",
       "                               21., 20., 19., 19., 19., 18., 18., 18., 18., 18., 17., 17., 17., 17.,\n",
       "                               16., 15., 14., 14., 14., 12., 12.]),\n",
       "                'sizemode': 'area'},\n",
       "     'name': '101 - 150',\n",
       "     'text': array(['Croatia<br>Confirmed 38', 'Albania<br>Confirmed 38',\n",
       "                    'Peru<br>Confirmed 38', 'South Africa<br>Confirmed 38',\n",
       "                    'Algeria<br>Confirmed 37', 'Panama<br>Confirmed 36',\n",
       "                    'Argentina<br>Confirmed 34', 'Tennessee<br>Confirmed 32',\n",
       "                    'Oregon<br>Confirmed 32', 'Pakistan<br>Confirmed 31',\n",
       "                    'Hungary<br>Confirmed 30', 'Georgia<br>Confirmed 30',\n",
       "                    'Alberta<br>Confirmed 29', 'Ecuador<br>Confirmed 28',\n",
       "                    'Wisconsin<br>Confirmed 27', 'Belarus<br>Confirmed 27',\n",
       "                    'Maryland<br>Confirmed 26', 'Cyprus<br>Confirmed 26',\n",
       "                    'Mexico<br>Confirmed 26', 'Costa Rica<br>Confirmed 26',\n",
       "                    'Latvia<br>Confirmed 26', 'Ohio<br>Confirmed 26',\n",
       "                    'Michigan<br>Confirmed 25', 'North Carolina<br>Confirmed 24',\n",
       "                    'Connecticut<br>Confirmed 22', 'Colombia<br>Confirmed 22',\n",
       "                    'Nevada<br>Confirmed 21', 'Minnesota<br>Confirmed 21',\n",
       "                    'Grand Princess<br>Confirmed 21', 'Rhode Island<br>Confirmed 20',\n",
       "                    'South Australia<br>Confirmed 19', 'Oman<br>Confirmed 19',\n",
       "                    'South Carolina<br>Confirmed 19', 'Tunisia<br>Confirmed 18',\n",
       "                    'Armenia<br>Confirmed 18', 'Bosnia and Herzegovina<br>Confirmed 18',\n",
       "                    'Malta<br>Confirmed 18', 'Qinghai<br>Confirmed 18',\n",
       "                    'Iowa<br>Confirmed 17', 'Morocco<br>Confirmed 17',\n",
       "                    'Western Australia<br>Confirmed 17', 'Quebec<br>Confirmed 17',\n",
       "                    'Indiana<br>Confirmed 16', 'Azerbaijan<br>Confirmed 15',\n",
       "                    'Nebraska<br>Confirmed 14', 'Kentucky<br>Confirmed 14',\n",
       "                    'North Macedonia<br>Confirmed 14', 'Arizona<br>Confirmed 12',\n",
       "                    'Moldova<br>Confirmed 12'], dtype=object)\n",
       " }),\n",
       " Scattergeo({\n",
       "     'lat': array([ 3.30000e+01,  1.87357e+01, -1.62902e+01,  1.44974e+01,  7.00000e+00,\n",
       "                    2.21667e+01,  3.48405e+01,  4.01500e+01,  3.20280e+00,  3.88974e+01,\n",
       "                    4.42998e+01,  6.18926e+01,  1.46415e+01,  5.51694e+01,  3.85266e+01,\n",
       "                    1.81096e+01,  4.34525e+01,  1.15500e+01,  3.27416e+01,  4.80196e+01,\n",
       "                    3.23182e+01,  3.93185e+01, -2.34425e+01, -4.09006e+01, -2.11151e+01,\n",
       "                    4.40459e+01,  3.93390e+00, -4.14545e+01,  3.89637e+01,  4.69219e+01,\n",
       "                    4.00000e+00,  3.84561e+01,  2.20000e+01,  4.71400e+01, -3.25228e+01,\n",
       "                    3.55653e+01,  2.10943e+01,  5.37609e+01,  2.36850e+01, -1.76797e+01,\n",
       "                    4.46939e+01,  1.82208e+01,  4.83794e+01,  7.94650e+00, -4.67960e+00,\n",
       "                    5.29399e+01,  1.25211e+01,  1.06918e+01, -4.03830e+00,  4.91900e+01,\n",
       "                    6.42380e+00, -2.29576e+01,  3.76489e+01,  1.80708e+01,  4.42405e+01,\n",
       "                    4.93723e+01,  1.52000e+01,  4.27560e+01,  3.84800e+00,  1.22383e+01,\n",
       "                    4.37333e+01,  9.08200e+00,  9.14500e+00,  1.70608e+01, -2.36000e-02,\n",
       "                    4.19029e+01,  9.94560e+00,  1.28628e+01,  3.16927e+01,  3.12400e+01,\n",
       "                    4.68625e+01,  1.62650e+01,  1.93133e+01,  8.61950e+00, -3.54735e+01,\n",
       "                    5.00000e+00,  2.75142e+01,  7.54000e+00, -1.24634e+01,  2.81667e+01,\n",
       "                    6.13707e+01,  1.57835e+01,  4.75289e+01,  3.61408e+01,  1.29843e+01,\n",
       "                    1.39094e+01, -1.94030e+00,  2.10079e+01,  4.94500e+01,  4.65653e+01,\n",
       "                   -8.03700e-01,  4.25063e+01,  3.91930e+00, -2.65225e+01,  1.79000e+01,\n",
       "                    1.83358e+01], dtype=float32),\n",
       "     'lon': array([  65.    ,  -70.1627,  -63.5887,  -14.4524,   81.    ,  113.55  ,\n",
       "                   -106.2485, -111.8624,   73.2207,  -77.0268,  -99.4388,   -6.9118,\n",
       "                    -61.0242,   23.8813,  -96.7265,  -77.2975,  -71.5639,  104.9167,\n",
       "                    -89.6787,   66.9237,  -86.9023,  -75.5071,  -58.4438,  174.886 ,\n",
       "                     55.5364,  -72.7107,  -53.1258,  145.9707,   35.2433, -110.4544,\n",
       "                    -53.    ,  -92.2884,  -80.    ,    9.55  ,  -55.7658,  -96.9289,\n",
       "                   -157.4983,  -98.8139,   90.3563,  149.4068,  -69.3819,  -66.5901,\n",
       "                     31.1656,   -1.0232,   55.492 , -106.4509,  -69.9683,  -61.2225,\n",
       "                     21.7587,   -2.11  ,  -66.5897,   18.4904, -122.6655,  -63.0501,\n",
       "                   -114.4788,   -2.3644,  -86.2419, -107.3025,   11.5021,   -1.5616,\n",
       "                      7.4167,    8.6753,   40.4897,  -61.7964,   37.9062,   12.4534,\n",
       "                     -9.6966,   30.2176,   88.0924,   36.51  ,  103.8467,  -61.551 ,\n",
       "                    -81.2546,    0.8248,  149.0124,  -58.75  ,   90.4336,   -5.5471,\n",
       "                    130.8456,   84.25  , -152.4044,  -90.2308,  -99.784 ,   -5.3536,\n",
       "                    -61.2872,  -60.9789,   29.8739,   10.9408,   -2.58  ,  -66.4619,\n",
       "                     11.6094,    1.5218,  -56.0278,   31.4659,  -62.8333,  -64.8963],\n",
       "                  dtype=float32),\n",
       "     'marker': {'color': 'lightgrey',\n",
       "                'line': {'color': 'rgb(40,40,40)', 'width': 0.5},\n",
       "                'size': array([11., 11., 10., 10., 10., 10., 10., 10., 10., 10.,  9.,  9.,  9.,  8.,\n",
       "                                8.,  8.,  7.,  7.,  6.,  6.,  6.,  6.,  6.,  6.,  6.,  5.,  5.,  5.,\n",
       "                                5.,  5.,  5.,  4.,  4.,  4.,  4.,  4.,  4.,  4.,  3.,  3.,  3.,  3.,\n",
       "                                3.,  3.,  2.,  2.,  2.,  2.,  2.,  2.,  2.,  2.,  2.,  2.,  2.,  2.,\n",
       "                                2.,  2.,  2.,  2.,  2.,  2.,  1.,  1.,  1.,  1.,  1.,  1.,  1.,  1.,\n",
       "                                1.,  1.,  1.,  1.,  1.,  1.,  1.,  1.,  1.,  1.,  1.,  1.,  1.,  1.,\n",
       "                                1.,  1.,  1.,  1.,  1.,  1.,  1.,  1.,  1.,  1.,  1.,  1.]),\n",
       "                'sizemode': 'area'},\n",
       "     'name': '151 - 247',\n",
       "     'text': array(['Afghanistan<br>Confirmed 11', 'Dominican Republic<br>Confirmed 11',\n",
       "                    'Bolivia<br>Confirmed 10', 'Senegal<br>Confirmed 10',\n",
       "                    'Sri Lanka<br>Confirmed 10', 'Macau<br>Confirmed 10',\n",
       "                    'New Mexico<br>Confirmed 10', 'Utah<br>Confirmed 10',\n",
       "                    'Maldives<br>Confirmed 10', 'District of Columbia<br>Confirmed 10',\n",
       "                    'South Dakota<br>Confirmed 9', 'Faroe Islands<br>Confirmed 9',\n",
       "                    'Martinique<br>Confirmed 9', 'Lithuania<br>Confirmed 8',\n",
       "                    'Kansas<br>Confirmed 8', 'Jamaica<br>Confirmed 8',\n",
       "                    'New Hampshire<br>Confirmed 7', 'Cambodia<br>Confirmed 7',\n",
       "                    'Mississippi<br>Confirmed 6', 'Kazakhstan<br>Confirmed 6',\n",
       "                    'Alabama<br>Confirmed 6', 'Delaware<br>Confirmed 6',\n",
       "                    'Paraguay<br>Confirmed 6', 'New Zealand<br>Confirmed 6',\n",
       "                    'Reunion<br>Confirmed 6', 'Vermont<br>Confirmed 5',\n",
       "                    'French Guiana<br>Confirmed 5', 'Tasmania<br>Confirmed 5',\n",
       "                    'Turkey<br>Confirmed 5', 'Montana<br>Confirmed 5',\n",
       "                    'Fench Guiana<br>Confirmed 5', 'Missouri<br>Confirmed 4',\n",
       "                    'Cuba<br>Confirmed 4', 'Liechtenstein<br>Confirmed 4',\n",
       "                    'Uruguay<br>Confirmed 4', 'Oklahoma<br>Confirmed 4',\n",
       "                    'Hawaii<br>Confirmed 4', 'Manitoba<br>Confirmed 4',\n",
       "                    'Bangladesh<br>Confirmed 3', 'French Polynesia<br>Confirmed 3',\n",
       "                    'Maine<br>Confirmed 3', 'Puerto Rico<br>Confirmed 3',\n",
       "                    'Ukraine<br>Confirmed 3', 'Ghana<br>Confirmed 3',\n",
       "                    'Seychelles<br>Confirmed 2', 'Saskatchewan<br>Confirmed 2',\n",
       "                    'Aruba<br>Confirmed 2', 'Trinidad and Tobago<br>Confirmed 2',\n",
       "                    'Congo (Kinshasa)<br>Confirmed 2', 'Jersey<br>Confirmed 2',\n",
       "                    'Venezuela<br>Confirmed 2', 'Namibia<br>Confirmed 2',\n",
       "                    'Grand Princess<br>Confirmed 2', 'St Martin<br>Confirmed 2',\n",
       "                    'Idaho<br>Confirmed 2', 'Channel Islands<br>Confirmed 2',\n",
       "                    'Honduras<br>Confirmed 2', 'Wyoming<br>Confirmed 2',\n",
       "                    'Cameroon<br>Confirmed 2', 'Burkina Faso<br>Confirmed 2',\n",
       "                    'Monaco<br>Confirmed 2', 'Nigeria<br>Confirmed 2',\n",
       "                    'Ethiopia<br>Confirmed 1', 'Antigua and Barbuda<br>Confirmed 1',\n",
       "                    'Kenya<br>Confirmed 1', 'Holy See<br>Confirmed 1',\n",
       "                    'Guinea<br>Confirmed 1', 'Sudan<br>Confirmed 1', 'Tibet<br>Confirmed 1',\n",
       "                    'Jordan<br>Confirmed 1', 'Mongolia<br>Confirmed 1',\n",
       "                    'Guadeloupe<br>Confirmed 1', 'Cayman Islands<br>Confirmed 1',\n",
       "                    'Togo<br>Confirmed 1', 'Australian Capital Territory<br>Confirmed 1',\n",
       "                    'Guyana<br>Confirmed 1', 'Bhutan<br>Confirmed 1',\n",
       "                    \"Cote d'Ivoire<br>Confirmed 1\", 'Northern Territory<br>Confirmed 1',\n",
       "                    'Nepal<br>Confirmed 1', 'Alaska<br>Confirmed 1',\n",
       "                    'Guatemala<br>Confirmed 1', 'North Dakota<br>Confirmed 1',\n",
       "                    'Gibraltar<br>Confirmed 1',\n",
       "                    'Saint Vincent and the Grenadines<br>Confirmed 1',\n",
       "                    'Saint Lucia<br>Confirmed 1', 'Rwanda<br>Confirmed 1',\n",
       "                    'Mauritania<br>Confirmed 1', 'Guernsey<br>Confirmed 1',\n",
       "                    'New Brunswick<br>Confirmed 1', 'Gabon<br>Confirmed 1',\n",
       "                    'Andorra<br>Confirmed 1', 'Suriname<br>Confirmed 1',\n",
       "                    'Eswatini<br>Confirmed 1', 'Saint Barthelemy<br>Confirmed 1',\n",
       "                    'Virgin Islands, U.S.<br>Confirmed 1'], dtype=object)\n",
       " }))"
      ]
     },
     "execution_count": 129,
     "metadata": {},
     "output_type": "execute_result"
    }
   ],
   "source": [
    "fig.data"
   ]
  },
  {
   "cell_type": "code",
   "execution_count": null,
   "metadata": {},
   "outputs": [],
   "source": []
  }
 ],
 "metadata": {
  "kernelspec": {
   "display_name": "Python 3",
   "language": "python",
   "name": "python3"
  },
  "language_info": {
   "codemirror_mode": {
    "name": "ipython",
    "version": 3
   },
   "file_extension": ".py",
   "mimetype": "text/x-python",
   "name": "python",
   "nbconvert_exporter": "python",
   "pygments_lexer": "ipython3",
   "version": "3.6.10"
  }
 },
 "nbformat": 4,
 "nbformat_minor": 4
}
